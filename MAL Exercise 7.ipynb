{
 "cells": [
  {
   "cell_type": "code",
   "execution_count": 109,
   "id": "e85fcedf",
   "metadata": {},
   "outputs": [],
   "source": [
    "import pandas as pd\n",
    "import numpy as np\n",
    "import matplotlib.pyplot as plt\n",
    "\n",
    "from tensorflow.keras.models import Sequential\n",
    "from tensorflow.keras.layers import Dense, Conv2D, MaxPooling2D, Flatten\n",
    "from tensorflow.keras.utils import to_categorical\n",
    "from tensorflow.keras import optimizers\n",
    "import seaborn as sns\n",
    "from sklearn.neighbors import KNeighborsClassifier\n",
    "from sklearn.ensemble import RandomForestClassifier\n",
    "\n",
    "from sklearn.model_selection import train_test_split"
   ]
  },
  {
   "cell_type": "markdown",
   "id": "c29c9b25",
   "metadata": {},
   "source": [
    "__You should be able to start up on this exercise after Lecture 1.__\n",
    "\n",
    "*This exercise must be a group effort. That means everyone must participate in the assignment.*\n",
    "\n",
    "In this assignment you will solve a data science problem end-to-end, pretending to be recently hired data scientists in a company. To help you get started, we've prepared a checklist to guide you through the project. Here are the main steps that you will go through:\n",
    "\n",
    "1. Frame the problem and look at the big picture\n",
    "2. Get the data\n",
    "3. Explore and visualise the data to gain insights\n",
    "4. Prepare the data to better expose the underlying data patterns to machine learning algorithms\n",
    "5. Explore many different models and short-list the best ones\n",
    "6. Fine-tune your models\n",
    "7. Present your solution \n",
    "\n",
    "In each step we list a set of questions that one should have in mind when undertaking a data science project. The list is not meant to be exhaustive, but does contain a selection of the most important questions to ask. We will be available to provide assistance with each of the steps, and will allocate some part of each lesson towards working on the projects.\n",
    "\n",
    "Your group must submit a _**single**_ Jupyter notebook, structured in terms of the first 6 sections listed above (the seventh will be a video uploaded to some streaming platform, e.g. YouTube, Vimeo, etc.)."
   ]
  },
  {
   "cell_type": "markdown",
   "id": "fed36ff1",
   "metadata": {},
   "source": [
    "### 1. Analysis: Frame the problem and look at the big picture\n",
    "1. Find a problem/task that everyone in the group finds interesting\n",
    "2. Define the objective in business terms\n",
    "3. How should you frame the problem (supervised/unsupervised etc.)?\n",
    "4. How should performance be measured?"
   ]
  },
  {
   "cell_type": "markdown",
   "id": "38a2efbd",
   "metadata": {},
   "source": [
    "1. Facial recognition\n",
    "2. Let's predict gender, age and etnicity of person from given picture\n",
    "3. It is supervised classification\n",
    "4. Performance will be measured in terms of accuracy for each of given categories"
   ]
  },
  {
   "cell_type": "markdown",
   "id": "d8b4b5ad",
   "metadata": {},
   "source": [
    "### 2. Get the data\n",
    "1. Find and document where you can get the data from\n",
    "2. Get the data\n",
    "3. Check the size and type of data (time series, geographical etc)"
   ]
  },
  {
   "cell_type": "markdown",
   "id": "38d5260c",
   "metadata": {},
   "source": [
    "1. We will use \"age, gender and etnicity face data\" dataset from kaggle available at: https://www.kaggle.com/code/sanjay7013/age-gender-ethnicity-recognition/data  \n",
    "\n",
    "It is a picture dataset with labels containing gender, age and etnicity information\n",
    "\n",
    "-age is an integer from 0 to 116, indicating the age  \n",
    "-gender is either 0 (male) or 1 (female)  \n",
    "-etnicity is an integer from 0 to 4, denoting White, Black, Asian, Indian, and Others (like Hispanic, Latino, Middle Eastern).  \n",
    "\n",
    "WE DECIDED TO SPLIT WORK IN FOLLOWING WAY: JULIA - AGE , NIKITA - GENDER, DANIEL - ETHNICITY CLASSIFICATION"
   ]
  },
  {
   "cell_type": "code",
   "execution_count": 110,
   "id": "c7f1c15f",
   "metadata": {
    "scrolled": false
   },
   "outputs": [],
   "source": [
    "df = pd.read_csv('datasets/7/age_gender.csv')"
   ]
  },
  {
   "cell_type": "markdown",
   "id": "bcdf5733",
   "metadata": {},
   "source": [
    "### 3. Explore the data\n",
    "1. Create a copy of the data for explorations (sampling it down to a manageable size if necessary)\n",
    "2. Create a Jupyter notebook to keep a record of your data exploration\n",
    "3. Study each feature and its characteristics:\n",
    "    * Name\n",
    "    * Type (categorical, int/float, bounded/unbounded, text, structured, etc)\n",
    "    * Percentage of missing values\n",
    "    * Check for outliers, rounding errors etc\n",
    "4. For supervised learning tasks, identify the target(s)\n",
    "5. Visualise the data\n",
    "6. Study the correlations between features\n",
    "7. Identify the promising transformations you may want to apply (e.g. convert skewed targets to normal via a log transformation)\n",
    "8. Document what you have learned"
   ]
  },
  {
   "cell_type": "code",
   "execution_count": 111,
   "id": "9aa64e9e",
   "metadata": {},
   "outputs": [
    {
     "data": {
      "text/html": [
       "<div>\n",
       "<style scoped>\n",
       "    .dataframe tbody tr th:only-of-type {\n",
       "        vertical-align: middle;\n",
       "    }\n",
       "\n",
       "    .dataframe tbody tr th {\n",
       "        vertical-align: top;\n",
       "    }\n",
       "\n",
       "    .dataframe thead th {\n",
       "        text-align: right;\n",
       "    }\n",
       "</style>\n",
       "<table border=\"1\" class=\"dataframe\">\n",
       "  <thead>\n",
       "    <tr style=\"text-align: right;\">\n",
       "      <th></th>\n",
       "      <th>age</th>\n",
       "      <th>ethnicity</th>\n",
       "      <th>gender</th>\n",
       "      <th>img_name</th>\n",
       "      <th>pixels</th>\n",
       "    </tr>\n",
       "  </thead>\n",
       "  <tbody>\n",
       "    <tr>\n",
       "      <th>0</th>\n",
       "      <td>1</td>\n",
       "      <td>2</td>\n",
       "      <td>0</td>\n",
       "      <td>20161219203650636.jpg.chip.jpg</td>\n",
       "      <td>129 128 128 126 127 130 133 135 139 142 145 14...</td>\n",
       "    </tr>\n",
       "    <tr>\n",
       "      <th>1</th>\n",
       "      <td>1</td>\n",
       "      <td>2</td>\n",
       "      <td>0</td>\n",
       "      <td>20161219222752047.jpg.chip.jpg</td>\n",
       "      <td>164 74 111 168 169 171 175 182 184 188 193 199...</td>\n",
       "    </tr>\n",
       "    <tr>\n",
       "      <th>2</th>\n",
       "      <td>1</td>\n",
       "      <td>2</td>\n",
       "      <td>0</td>\n",
       "      <td>20161219222832191.jpg.chip.jpg</td>\n",
       "      <td>67 70 71 70 69 67 70 79 90 103 116 132 145 155...</td>\n",
       "    </tr>\n",
       "    <tr>\n",
       "      <th>3</th>\n",
       "      <td>1</td>\n",
       "      <td>2</td>\n",
       "      <td>0</td>\n",
       "      <td>20161220144911423.jpg.chip.jpg</td>\n",
       "      <td>193 197 198 200 199 200 202 203 204 205 208 21...</td>\n",
       "    </tr>\n",
       "    <tr>\n",
       "      <th>4</th>\n",
       "      <td>1</td>\n",
       "      <td>2</td>\n",
       "      <td>0</td>\n",
       "      <td>20161220144914327.jpg.chip.jpg</td>\n",
       "      <td>202 205 209 210 209 209 210 211 212 214 218 21...</td>\n",
       "    </tr>\n",
       "    <tr>\n",
       "      <th>...</th>\n",
       "      <td>...</td>\n",
       "      <td>...</td>\n",
       "      <td>...</td>\n",
       "      <td>...</td>\n",
       "      <td>...</td>\n",
       "    </tr>\n",
       "    <tr>\n",
       "      <th>23700</th>\n",
       "      <td>99</td>\n",
       "      <td>0</td>\n",
       "      <td>1</td>\n",
       "      <td>20170120221920654.jpg.chip.jpg</td>\n",
       "      <td>127 100 94 81 77 77 74 99 102 98 128 145 160 1...</td>\n",
       "    </tr>\n",
       "    <tr>\n",
       "      <th>23701</th>\n",
       "      <td>99</td>\n",
       "      <td>1</td>\n",
       "      <td>1</td>\n",
       "      <td>20170120134639935.jpg.chip.jpg</td>\n",
       "      <td>23 28 32 35 42 47 68 85 98 103 113 117 130 129...</td>\n",
       "    </tr>\n",
       "    <tr>\n",
       "      <th>23702</th>\n",
       "      <td>99</td>\n",
       "      <td>2</td>\n",
       "      <td>1</td>\n",
       "      <td>20170110182418864.jpg.chip.jpg</td>\n",
       "      <td>59 50 37 40 34 19 30 101 156 170 177 184 187 1...</td>\n",
       "    </tr>\n",
       "    <tr>\n",
       "      <th>23703</th>\n",
       "      <td>99</td>\n",
       "      <td>2</td>\n",
       "      <td>1</td>\n",
       "      <td>20170117195405372.jpg.chip.jpg</td>\n",
       "      <td>45 108 120 156 206 197 140 180 191 199 204 207...</td>\n",
       "    </tr>\n",
       "    <tr>\n",
       "      <th>23704</th>\n",
       "      <td>99</td>\n",
       "      <td>0</td>\n",
       "      <td>1</td>\n",
       "      <td>20170110182052119.jpg.chip.jpg</td>\n",
       "      <td>156 161 160 165 170 173 166 177 183 191 187 18...</td>\n",
       "    </tr>\n",
       "  </tbody>\n",
       "</table>\n",
       "<p>23705 rows × 5 columns</p>\n",
       "</div>"
      ],
      "text/plain": [
       "       age  ethnicity  gender                        img_name  \\\n",
       "0        1          2       0  20161219203650636.jpg.chip.jpg   \n",
       "1        1          2       0  20161219222752047.jpg.chip.jpg   \n",
       "2        1          2       0  20161219222832191.jpg.chip.jpg   \n",
       "3        1          2       0  20161220144911423.jpg.chip.jpg   \n",
       "4        1          2       0  20161220144914327.jpg.chip.jpg   \n",
       "...    ...        ...     ...                             ...   \n",
       "23700   99          0       1  20170120221920654.jpg.chip.jpg   \n",
       "23701   99          1       1  20170120134639935.jpg.chip.jpg   \n",
       "23702   99          2       1  20170110182418864.jpg.chip.jpg   \n",
       "23703   99          2       1  20170117195405372.jpg.chip.jpg   \n",
       "23704   99          0       1  20170110182052119.jpg.chip.jpg   \n",
       "\n",
       "                                                  pixels  \n",
       "0      129 128 128 126 127 130 133 135 139 142 145 14...  \n",
       "1      164 74 111 168 169 171 175 182 184 188 193 199...  \n",
       "2      67 70 71 70 69 67 70 79 90 103 116 132 145 155...  \n",
       "3      193 197 198 200 199 200 202 203 204 205 208 21...  \n",
       "4      202 205 209 210 209 209 210 211 212 214 218 21...  \n",
       "...                                                  ...  \n",
       "23700  127 100 94 81 77 77 74 99 102 98 128 145 160 1...  \n",
       "23701  23 28 32 35 42 47 68 85 98 103 113 117 130 129...  \n",
       "23702  59 50 37 40 34 19 30 101 156 170 177 184 187 1...  \n",
       "23703  45 108 120 156 206 197 140 180 191 199 204 207...  \n",
       "23704  156 161 160 165 170 173 166 177 183 191 187 18...  \n",
       "\n",
       "[23705 rows x 5 columns]"
      ]
     },
     "metadata": {},
     "output_type": "display_data"
    },
    {
     "data": {
      "text/html": [
       "<div>\n",
       "<style scoped>\n",
       "    .dataframe tbody tr th:only-of-type {\n",
       "        vertical-align: middle;\n",
       "    }\n",
       "\n",
       "    .dataframe tbody tr th {\n",
       "        vertical-align: top;\n",
       "    }\n",
       "\n",
       "    .dataframe thead th {\n",
       "        text-align: right;\n",
       "    }\n",
       "</style>\n",
       "<table border=\"1\" class=\"dataframe\">\n",
       "  <thead>\n",
       "    <tr style=\"text-align: right;\">\n",
       "      <th></th>\n",
       "      <th>age</th>\n",
       "      <th>ethnicity</th>\n",
       "      <th>gender</th>\n",
       "    </tr>\n",
       "  </thead>\n",
       "  <tbody>\n",
       "    <tr>\n",
       "      <th>count</th>\n",
       "      <td>23705.000000</td>\n",
       "      <td>23705.000000</td>\n",
       "      <td>23705.000000</td>\n",
       "    </tr>\n",
       "    <tr>\n",
       "      <th>mean</th>\n",
       "      <td>33.300907</td>\n",
       "      <td>1.269226</td>\n",
       "      <td>0.477283</td>\n",
       "    </tr>\n",
       "    <tr>\n",
       "      <th>std</th>\n",
       "      <td>19.885708</td>\n",
       "      <td>1.345638</td>\n",
       "      <td>0.499494</td>\n",
       "    </tr>\n",
       "    <tr>\n",
       "      <th>min</th>\n",
       "      <td>1.000000</td>\n",
       "      <td>0.000000</td>\n",
       "      <td>0.000000</td>\n",
       "    </tr>\n",
       "    <tr>\n",
       "      <th>25%</th>\n",
       "      <td>23.000000</td>\n",
       "      <td>0.000000</td>\n",
       "      <td>0.000000</td>\n",
       "    </tr>\n",
       "    <tr>\n",
       "      <th>50%</th>\n",
       "      <td>29.000000</td>\n",
       "      <td>1.000000</td>\n",
       "      <td>0.000000</td>\n",
       "    </tr>\n",
       "    <tr>\n",
       "      <th>75%</th>\n",
       "      <td>45.000000</td>\n",
       "      <td>2.000000</td>\n",
       "      <td>1.000000</td>\n",
       "    </tr>\n",
       "    <tr>\n",
       "      <th>max</th>\n",
       "      <td>116.000000</td>\n",
       "      <td>4.000000</td>\n",
       "      <td>1.000000</td>\n",
       "    </tr>\n",
       "  </tbody>\n",
       "</table>\n",
       "</div>"
      ],
      "text/plain": [
       "                age     ethnicity        gender\n",
       "count  23705.000000  23705.000000  23705.000000\n",
       "mean      33.300907      1.269226      0.477283\n",
       "std       19.885708      1.345638      0.499494\n",
       "min        1.000000      0.000000      0.000000\n",
       "25%       23.000000      0.000000      0.000000\n",
       "50%       29.000000      1.000000      0.000000\n",
       "75%       45.000000      2.000000      1.000000\n",
       "max      116.000000      4.000000      1.000000"
      ]
     },
     "execution_count": 111,
     "metadata": {},
     "output_type": "execute_result"
    }
   ],
   "source": [
    "#display data to see columns and describe to see distribution etc.\n",
    "display(df)\n",
    "df.describe()\n"
   ]
  },
  {
   "cell_type": "markdown",
   "id": "a62ffc12",
   "metadata": {},
   "source": [
    "### Age - Julia\n",
    "Firstly I want to see how data is distributed so I plot following chart from age data"
   ]
  },
  {
   "cell_type": "code",
   "execution_count": 112,
   "id": "fe716c93",
   "metadata": {
    "scrolled": true
   },
   "outputs": [
    {
     "data": {
      "image/png": "[encoded data removed]",
      "text/plain": [
       "<Figure size 432x288 with 1 Axes>"
      ]
     },
     "metadata": {},
     "output_type": "display_data"
    }
   ],
   "source": [
    "df['age'].plot(kind=\"hist\")\n",
    "plt.show()"
   ]
  },
  {
   "cell_type": "markdown",
   "id": "8685a8d4",
   "metadata": {},
   "source": [
    "\n",
    "Data is not symetrical, half of images show people below 29 year. Age data is right skewed. Mean is 33 years old while the oldest person pictured is 116 yo. Pictures of people above 90 yo are outliers.  \n"
   ]
  },
  {
   "cell_type": "markdown",
   "id": "3c3248e9",
   "metadata": {},
   "source": [
    "### Gender - Nikita"
   ]
  },
  {
   "cell_type": "code",
   "execution_count": 113,
   "id": "0c891e1e",
   "metadata": {},
   "outputs": [
    {
     "data": {
      "text/plain": [
       "Text(0.5, 1.0, 'gender representation')"
      ]
     },
     "execution_count": 113,
     "metadata": {},
     "output_type": "execute_result"
    },
    {
     "data": {
      "image/png": "[encoded data removed]",
      "text/plain": [
       "<Figure size 144x288 with 1 Axes>"
      ]
     },
     "metadata": {},
     "output_type": "display_data"
    }
   ],
   "source": [
    "plt.figure(figsize=(2,4))\n",
    "g = sns.countplot(x = df['gender'], palette=\"icefire\")\n",
    "plt.title(\"gender representation\")"
   ]
  },
  {
   "cell_type": "markdown",
   "id": "2ae166f5",
   "metadata": {},
   "source": [
    "0 - stands for male, 1 - for female in the chart. There is more pictures of males than females available in the dataset."
   ]
  },
  {
   "cell_type": "markdown",
   "id": "58361a7d",
   "metadata": {},
   "source": [
    "### Ethnicity - Daniel"
   ]
  },
  {
   "cell_type": "code",
   "execution_count": 114,
   "id": "8c06767f",
   "metadata": {},
   "outputs": [
    {
     "data": {
      "image/png": "[encoded data removed]",
      "text/plain": [
       "<Figure size 432x288 with 1 Axes>"
      ]
     },
     "metadata": {},
     "output_type": "display_data"
    }
   ],
   "source": [
    "df['ethnicity'].plot(kind=\"hist\")\n",
    "plt.show()"
   ]
  },
  {
   "cell_type": "markdown",
   "id": "58e7395b",
   "metadata": {},
   "source": [
    "There is way more pictures of white people than all other ethinicities available in dataset. what if we just delete half of them to keep it all even xd. "
   ]
  },
  {
   "cell_type": "markdown",
   "id": "7962c2e3",
   "metadata": {},
   "source": [
    "#### Visualize pictures examples"
   ]
  },
  {
   "cell_type": "code",
   "execution_count": 115,
   "id": "1d3989ae",
   "metadata": {},
   "outputs": [],
   "source": [
    "#pixels is long string so we need to seperate it and cast to int each pixel value\n",
    "pictures = []\n",
    "for a in df[\"pixels\"]:\n",
    "    pictures.append(list(map(lambda e: int(e), a.split(\" \")))) #/255\n"
   ]
  },
  {
   "cell_type": "code",
   "execution_count": 116,
   "id": "d60204da",
   "metadata": {},
   "outputs": [
    {
     "name": "stdout",
     "output_type": "stream",
     "text": [
      "2304 pixels\n"
     ]
    },
    {
     "data": {
      "image/png": "[encoded data removed]",
      "text/plain": [
       "<Figure size 432x288 with 1 Axes>"
      ]
     },
     "metadata": {},
     "output_type": "display_data"
    }
   ],
   "source": [
    "\n",
    "i = 105 #change it to number up to 23705 to see other pictures\n",
    "\n",
    "pictures = np.array(pictures)\n",
    "sample = pictures[i]\n",
    "print(sample.size, \"pixels\")\n",
    "\n",
    "plt.title(\"Age: {}, Gender: {} Ethnicity: {}\".format(df['age'][i],df['gender'][i],df['ethnicity'][i]))\n",
    "plt.imshow(sample.reshape(48,48), cmap='gray')\n",
    "plt.show()"
   ]
  },
  {
   "cell_type": "markdown",
   "id": "e9d99160",
   "metadata": {},
   "source": [
    "### 4. Prepare the data\n",
    "Notes:\n",
    "* Work on copies of the data (keep the original dataset intact).\n",
    "* Write functions for all data transformations you apply, for three reasons:\n",
    "    * So you can easily prepare the data the next time you run your code\n",
    "    * So you can apply these transformations in future projects\n",
    "    * To clean and prepare the test set\n",
    "    \n",
    "    \n",
    "1. Data cleaning:\n",
    "    * Fix or remove outliers (or keep them)\n",
    "    * Fill in missing values (e.g. with zero, mean, median, regression ...) or drop their rows (or columns)\n",
    "2. Feature selection (optional):\n",
    "    * Drop the features that provide no useful information for the task (e.g. a customer ID is usually useless for modelling).\n",
    "3. Feature engineering, where appropriate:\n",
    "    * Discretize continuous features\n",
    "    * Use one-hot encoding if/when relevant\n",
    "    * Add promising transformations of features (e.g. $\\log(x)$, $\\sqrt{x}$, $x^2$, etc)\n",
    "    * Aggregate features into promising new features\n",
    "4. Feature scaling: standardise or normalise features"
   ]
  },
  {
   "cell_type": "markdown",
   "id": "23edc6d8",
   "metadata": {},
   "source": [
    "We only care about picture data and labels  \n",
    "Devide by 255 to scale each pixel to value between 0 and 1 "
   ]
  },
  {
   "cell_type": "code",
   "execution_count": 117,
   "id": "19129365",
   "metadata": {},
   "outputs": [],
   "source": [
    "scaled = pictures/255"
   ]
  },
  {
   "cell_type": "markdown",
   "id": "00e9862d",
   "metadata": {},
   "source": [
    "### Age\n",
    "Bin age values into 6 categories: 0-10, 10-25, 25-30, 30-45, 45-64, 64-116. Later will experiment with different bins to find best ones."
   ]
  },
  {
   "cell_type": "code",
   "execution_count": 118,
   "id": "ade583b7",
   "metadata": {},
   "outputs": [
    {
     "name": "stderr",
     "output_type": "stream",
     "text": [
      "C:\\Users\\themr\\anaconda3\\lib\\site-packages\\seaborn\\_decorators.py:36: FutureWarning: Pass the following variable as a keyword arg: x. From version 0.12, the only valid positional argument will be `data`, and passing other arguments without an explicit keyword will result in an error or misinterpretation.\n",
      "  warnings.warn(\n"
     ]
    },
    {
     "data": {
      "text/plain": [
       "Text(0.5, 1.0, 'Age bins')"
      ]
     },
     "execution_count": 118,
     "metadata": {},
     "output_type": "execute_result"
    },
    {
     "data": {
      "image/png": "[encoded data removed]",
      "text/plain": [
       "<Figure size 1080x504 with 1 Axes>"
      ]
     },
     "metadata": {},
     "output_type": "display_data"
    }
   ],
   "source": [
    "\n",
    "#age_map = {0:\"0-3\",1:\"3-18\",2:\"18-45\",3:\"45-64\",4:\"64-116\"}\n",
    "#bins=[0,6,18,25,30,45,64,116],labels=[\"0\",\"1\",\"2\",\"3\",\"4\",\"5\",\"6\"]\n",
    "ages = pd.cut(df[\"age\"],bins=[0,10,25,30,45,64,116],labels=[\"0\",\"1\",\"2\",\"3\",\"4\",\"5\"])#pd.qcut(df['age'], 10,labels = [\"0-6\",\"6-20\",\"20-25\",\"25-26\",\"26-29\",\"29-34\",\"34-40\",\"40-50\",\"50-61\",\"61-116\"])\n",
    "\n",
    "plt.figure(figsize=(15,7))\n",
    "g = sns.countplot(ages, palette=\"icefire\")\n",
    "plt.title(\"Age bins\")"
   ]
  },
  {
   "cell_type": "code",
   "execution_count": 119,
   "id": "df304c4b",
   "metadata": {},
   "outputs": [
    {
     "name": "stdout",
     "output_type": "stream",
     "text": [
      "(17778, 2304)\n"
     ]
    },
    {
     "data": {
      "text/plain": [
       "(17778, 6)"
      ]
     },
     "execution_count": 119,
     "metadata": {},
     "output_type": "execute_result"
    }
   ],
   "source": [
    "#Convert a class integers to binary class matrix.\n",
    "y = to_categorical(ages, 6)\n",
    "x = scaled\n",
    "\n",
    "X_train, X_test, Y_train, Y_test = train_test_split(x, y, stratify = y,random_state=69)\n",
    "print(X_train.shape)\n",
    "Y_train.shape"
   ]
  },
  {
   "cell_type": "markdown",
   "id": "0a34e5f2",
   "metadata": {},
   "source": [
    "### Gender"
   ]
  },
  {
   "cell_type": "code",
   "execution_count": 120,
   "id": "bad54d59",
   "metadata": {},
   "outputs": [
    {
     "name": "stdout",
     "output_type": "stream",
     "text": [
      "(17778, 2304)\n"
     ]
    },
    {
     "data": {
      "text/plain": [
       "(17778, 2)"
      ]
     },
     "execution_count": 120,
     "metadata": {},
     "output_type": "execute_result"
    }
   ],
   "source": [
    "genders = df['gender']\n",
    "y_gender = to_categorical(genders, dtype =\"int32\")\n",
    "x_gender = scaled\n",
    "\n",
    "X_train_gender, X_test_gender, Y_train_gender, Y_test_gender = train_test_split(x_gender, y_gender, stratify = y,random_state=69)\n",
    "print(X_train_gender.shape)\n",
    "Y_train_gender.shape"
   ]
  },
  {
   "cell_type": "markdown",
   "id": "424a9bcd",
   "metadata": {},
   "source": [
    "### Ethnicity"
   ]
  },
  {
   "cell_type": "code",
   "execution_count": 121,
   "id": "f1062b00",
   "metadata": {},
   "outputs": [
    {
     "name": "stdout",
     "output_type": "stream",
     "text": [
      "(17778, 2304)\n"
     ]
    },
    {
     "data": {
      "text/plain": [
       "(17778, 5)"
      ]
     },
     "execution_count": 121,
     "metadata": {},
     "output_type": "execute_result"
    }
   ],
   "source": [
    "y_ethnicity = to_categorical(df['ethnicity'], 5)\n",
    "x = pictures/255\n",
    "\n",
    "X_train_ethnicity, X_test_ethnicity, Y_train_ethnicity, Y_test_ethnicity = train_test_split(x, y_ethnicity, stratify = y_ethnicity,random_state=69)\n",
    "print(X_train_ethnicity.shape)\n",
    "Y_train_ethnicity.shape"
   ]
  },
  {
   "cell_type": "markdown",
   "id": "1d7eca9d",
   "metadata": {},
   "source": [
    "### 5. Short-list promising models\n",
    "We expect you to do some additional research and train at **least one model per team member**.\n",
    "\n",
    "1. Train mainly quick and dirty models from different categories (e.g. linear, SVM, Random Forests etc) using default parameters\n",
    "2. Measure and compare their performance\n",
    "3. Analyse the most significant variables for each algorithm\n",
    "4. Analyse the types of errors the models make\n",
    "5. Have a quick round of feature selection and engineering if necessary\n",
    "6. Have one or two more quick iterations of the five previous steps\n",
    "7. Short-list the top three to five most promising models, preferring models that make different types of errors"
   ]
  },
  {
   "cell_type": "markdown",
   "id": "0fdf2e23",
   "metadata": {},
   "source": [
    "### Age\n",
    "##### K Neighbors Classifier \n",
    "Age case is supervised multi class classification. It could be 116 classes(ages available in data set) to give precise age prediction. However, I would have to get rid of outliers to get each class sufficiently represented and it would be pretty hard to get satisfying accuracy in the end so I decided to bin it into 6 classes and count on at least 50% accuracy using CNN model. Firstly will use K-neighbours to see how well it can perform and to compare it with Convolutional Neural Network later."
   ]
  },
  {
   "cell_type": "code",
   "execution_count": 122,
   "id": "197dd6b5",
   "metadata": {},
   "outputs": [
    {
     "name": "stdout",
     "output_type": "stream",
     "text": [
      "Model accuracy on the original/test? data: 0.2063438501771554\n",
      "Model accuracy on the train data: 0.35791427607154913\n"
     ]
    }
   ],
   "source": [
    "scaled = pictures/255\n",
    "scaled = np.around(scaled,2)\n",
    "x = scaled\n",
    "#split again after reshaping pictures\n",
    "X_train, X_test, Y_train, Y_test = train_test_split(x, y, stratify = y,random_state=69)\n",
    "\n",
    "\n",
    "\n",
    "knn = KNeighborsClassifier()\n",
    "knn.fit(X_train, Y_train)\n",
    "print(\"Model accuracy on the original/test? data: {}\".format(knn.score(X_test,Y_test)))\n",
    "print(\"Model accuracy on the train data: {}\".format(knn.score(X_train,Y_train)))"
   ]
  },
  {
   "cell_type": "markdown",
   "id": "a09513ab",
   "metadata": {},
   "source": [
    "Pretty bad taking into account fact that there are only 6 classes"
   ]
  },
  {
   "cell_type": "code",
   "execution_count": null,
   "id": "3c37669a",
   "metadata": {},
   "outputs": [],
   "source": [
    "training_accuracy = []\n",
    "test_accuracy = []\n",
    "\n",
    "ks = range(1, 30)\n",
    "\n",
    "for k in ks:\n",
    "    clf = KNeighborsClassifier(n_neighbors=k)\n",
    "    clf.fit(X_train, Y_train)\n",
    "    # record training set accuracy\n",
    "    training_accuracy.append(clf.score(X_train, Y_train))\n",
    "    # record generalization accuracy\n",
    "    test_accuracy.append(clf.score(X_test, Y_test))\n",
    "    \n",
    "plt.plot(ks, training_accuracy, label=\"training accuracy\")\n",
    "plt.plot(ks, test_accuracy, label=\"test accuracy\")\n",
    "plt.ylabel(\"Accuracy\")\n",
    "plt.xlabel(\"n_neighbors\")\n",
    "plt.legend();"
   ]
  },
  {
   "cell_type": "markdown",
   "id": "30985c28",
   "metadata": {},
   "source": [
    "In best case KNN scores aprox 0.2 accuracy. This model doesn't perform any feature selection, every pixel matters the same, also it is sensitive to imbalanced data like in this example."
   ]
  },
  {
   "cell_type": "markdown",
   "id": "b16bae88",
   "metadata": {},
   "source": [
    "### Gender\n",
    "Gender case is supervised binary classification. It means that the dataset we use consists of only two classes 0 and 1, male and female. I will use K-neighbours, Random Forest models and Convolutional Neural Network and try to compare them.\n",
    "##### K Neighbors Classifier "
   ]
  },
  {
   "cell_type": "code",
   "execution_count": null,
   "id": "e900306c",
   "metadata": {},
   "outputs": [],
   "source": [
    "knn = KNeighborsClassifier()\n",
    "knn.fit(X_train_gender, Y_train_gender)\n",
    "print(\"Model accuracy on the original/test? data: {}\".format(knn.score(X_test_gender,Y_test_gender)))\n",
    "print(\"Model accuracy on the train data: {}\".format(knn.score(X_train_gender,Y_train_gender)))"
   ]
  },
  {
   "cell_type": "markdown",
   "id": "95fdcaee",
   "metadata": {},
   "source": [
    "Raw KNN model shows overfitting issue as test and train are different"
   ]
  },
  {
   "cell_type": "code",
   "execution_count": null,
   "id": "5d71684b",
   "metadata": {},
   "outputs": [],
   "source": [
    "training_accuracy = []\n",
    "test_accuracy = []\n",
    "\n",
    "ks = range(1, 30)\n",
    "\n",
    "for k in ks:\n",
    "    clf = KNeighborsClassifier(n_neighbors=k)\n",
    "    clf.fit(X_train_gender, Y_train_gender)\n",
    "    # record training set accuracy\n",
    "    training_accuracy.append(clf.score(X_train_gender, Y_train_gender))\n",
    "    # record generalization accuracy\n",
    "    test_accuracy.append(clf.score(X_test_gender, Y_test_gender))\n",
    "    \n",
    "plt.plot(ks, training_accuracy, label=\"training accuracy\")\n",
    "plt.plot(ks, test_accuracy, label=\"test accuracy\")\n",
    "plt.ylabel(\"Accuracy\")\n",
    "plt.xlabel(\"n_neighbors\")\n",
    "plt.legend();"
   ]
  },
  {
   "cell_type": "markdown",
   "id": "f10a3a6a",
   "metadata": {},
   "source": [
    "With incresing number of neigbors, overfitting issue improves."
   ]
  },
  {
   "cell_type": "code",
   "execution_count": null,
   "id": "91efe626",
   "metadata": {},
   "outputs": [],
   "source": [
    "knn_gender = KNeighborsClassifier(n_neighbors=30)\n",
    "knn_gender.fit(X_train_gender, Y_train_gender)\n",
    "knn_score_gender_test = knn_gender.score(X_test_gender,Y_test_gender)\n",
    "print(\"Model accuracy on the original/test? data: {}\".format(knn_gender.score(X_test_gender,Y_test_gender)))\n",
    "print(\"Model accuracy on the train data: {}\".format(knn_gender.score(X_train_gender,Y_train_gender)))"
   ]
  },
  {
   "cell_type": "markdown",
   "id": "937785f6",
   "metadata": {},
   "source": [
    "Tweaking parameters improve model performance. With n_neighbors = 30 model does not have significant issue with overfitting, but it takes quite a lot of time model to compile."
   ]
  },
  {
   "cell_type": "markdown",
   "id": "8f81369f",
   "metadata": {},
   "source": [
    "##### Random Forest"
   ]
  },
  {
   "cell_type": "code",
   "execution_count": null,
   "id": "681c3d03",
   "metadata": {},
   "outputs": [],
   "source": [
    "# Train Random foress (gender data) with default parameters\n",
    "forest = RandomForestClassifier()\n",
    "forest.fit(X_train_gender, Y_train_gender)\n",
    "\n",
    "print(\"Model accuracy on the original/test? data: {}\".format(forest.score(X_test_gender,Y_test_gender)))\n",
    "print(\"Model accuracy on the train data: {}\".format(forest.score(X_train_gender,Y_train_gender)))"
   ]
  },
  {
   "cell_type": "markdown",
   "id": "a0f8a72a",
   "metadata": {},
   "source": [
    "RandomForest model overfits as accuracy on test data and train data differs signifecantly. Now I will try to tune using parameters for current model."
   ]
  },
  {
   "cell_type": "code",
   "execution_count": null,
   "id": "99554bcf",
   "metadata": {},
   "outputs": [],
   "source": [
    "## Lets do Pre-prunning\n",
    "\n",
    "training_accuracy = []\n",
    "test_accuracy = []\n",
    "\n",
    "ks = range(1, 40)\n",
    "\n",
    "for k in ks:\n",
    "    clf = RandomForestClassifier(n_estimators=k, random_state=69, max_depth=3)\n",
    "    clf.fit(X_train_gender, Y_train_gender)\n",
    "    training_accuracy.append(clf.score(X_train_gender, Y_train_gender))\n",
    "    test_accuracy.append(clf.score(X_test_gender, Y_test_gender))\n",
    "   \n",
    "    \n",
    "plt.plot(ks, training_accuracy, label=\"training accuracy\")\n",
    "plt.plot(ks, test_accuracy, label=\"test accuracy\")\n",
    "plt.ylabel(\"Accuracy\")\n",
    "plt.xlabel(\"n_estimators\")\n",
    "plt.legend();"
   ]
  },
  {
   "cell_type": "markdown",
   "id": "970d3141",
   "metadata": {},
   "source": [
    "Accuracy on training data and test data is not significantly different with n_estimators 37, so with this parameters model will avoid significant overfiting."
   ]
  },
  {
   "cell_type": "code",
   "execution_count": null,
   "id": "151578d9",
   "metadata": {},
   "outputs": [],
   "source": [
    "## Lets do Pre-prunning\n",
    "\n",
    "training_accuracy = []\n",
    "test_accuracy = []\n",
    "\n",
    "ks = range(3, 7)\n",
    "\n",
    "for k in ks:\n",
    "    clf = RandomForestClassifier(n_estimators=30, random_state=69, max_depth=k)\n",
    "    clf.fit(X_train_gender, Y_train_gender)\n",
    "    training_accuracy.append(clf.score(X_train_gender, Y_train_gender))\n",
    "    test_accuracy.append(clf.score(X_test_gender, Y_test_gender))\n",
    "   \n",
    "    \n",
    "plt.plot(ks, training_accuracy, label=\"training accuracy\")\n",
    "plt.plot(ks, test_accuracy, label=\"test accuracy\")\n",
    "plt.ylabel(\"Accuracy\")\n",
    "plt.xlabel(\"max_depth\")\n",
    "plt.legend();"
   ]
  },
  {
   "cell_type": "code",
   "execution_count": null,
   "id": "568f2822",
   "metadata": {},
   "outputs": [],
   "source": [
    "forest_gender = RandomForestClassifier(n_estimators=37, random_state=69, max_depth=3)\n",
    "forest_gender.fit(X_train_gender, Y_train_gender)\n",
    "forest_score_gender_test = forest_gender.score(X_test_gender,Y_test_gender)\n",
    "\n",
    "print(\"Model accuracy on the original/test? data: {}\".format(forest_gender.score(X_test_gender,Y_test_gender)))\n",
    "print(\"Model accuracy on the train data: {}\".format(forest_gender.score(X_train_gender,Y_train_gender)))"
   ]
  },
  {
   "cell_type": "markdown",
   "id": "80e922d5",
   "metadata": {},
   "source": [
    "In summary, The Random Forest does not overfit, but has accuracy around 74% for binary classification."
   ]
  },
  {
   "cell_type": "markdown",
   "id": "566cc058",
   "metadata": {},
   "source": [
    "### Ethnicity"
   ]
  },
  {
   "cell_type": "code",
   "execution_count": null,
   "id": "26d7ee80",
   "metadata": {},
   "outputs": [],
   "source": [
    "knn = KNeighborsClassifier()\n",
    "knn.fit(X_train_ethnicity, Y_train_ethnicity)\n",
    "print(\"Model accuracy on the original/test? data: {}\".format(knn.score(X_test_ethnicity,Y_test_ethnicity)))\n",
    "print(\"Model accuracy on the train data: {}\".format(knn.score(X_train_ethnicity,Y_train_ethnicity)))"
   ]
  },
  {
   "cell_type": "markdown",
   "id": "f1981609",
   "metadata": {},
   "source": [
    "### 6. Fine-tune the system\n",
    "1. Fine-tune the hyperparameters\n",
    "2. Once you are confident about your final model, measure its performance on the test set to estimate the generalisation error"
   ]
  },
  {
   "cell_type": "markdown",
   "id": "13cf56ed",
   "metadata": {},
   "source": [
    "### Age\n",
    "##### Convolutional Neural Network"
   ]
  },
  {
   "cell_type": "code",
   "execution_count": null,
   "id": "8a4da8a1",
   "metadata": {},
   "outputs": [],
   "source": [
    "# Neural network requires specific shape of input so reshaping it\n",
    "scaled = pictures/255\n",
    "scaled = np.around(scaled,2)\n",
    "\n",
    "scaled = np.reshape(scaled,[-1,48,48,1])\n",
    "x = scaled\n",
    "#split again after reshaping pictures\n",
    "X_train, X_test, Y_train, Y_test = train_test_split(x, y, stratify = y,random_state=69)"
   ]
  },
  {
   "cell_type": "code",
   "execution_count": null,
   "id": "0d73e7b1",
   "metadata": {},
   "outputs": [],
   "source": [
    "#Initialize model\n",
    "model = Sequential()\n",
    "\n",
    "#Convolution layer\n",
    "model.add(Conv2D(32, (3,3), activation='relu', input_shape=X_train[0].shape)) #32 feature maps, 3*3 local receptive fields\n",
    "\n",
    "#Pooling layer - to reduce the dimensions of the hidden layer by combining the outputs of neuron clusters at the previous layer into a single neuron in the next layer\n",
    "model.add(MaxPooling2D(pool_size=(2,2)))\n",
    "\n",
    "#adds an extra channel dimension to flatten input\n",
    "model.add(Flatten())\n",
    "\n",
    "#Output layer\n",
    "model.add(Dense(units = 6, activation = 'softmax')) \n",
    "\n",
    "#Tried this SGD optimizer but using adam in the end, left it here for comparison\n",
    "#sgd = optimizers.SGD(learning_rate = 0.1) \n",
    "\n",
    "#Compiling model with 'adam' as optimizer\n",
    "model.compile(loss = 'categorical_crossentropy', optimizer = 'adam', metrics = ['accuracy']) \n",
    "\n",
    "history = model.fit(X_train, Y_train, epochs = 9, batch_size = 50, verbose = 1, validation_split = 0.3)"
   ]
  },
  {
   "cell_type": "code",
   "execution_count": null,
   "id": "396fe518",
   "metadata": {},
   "outputs": [],
   "source": [
    "plt.style.use('ggplot')\n",
    "\n",
    "def plot_history(history):\n",
    "    acc = history.history['accuracy']\n",
    "    val_acc = history.history['val_accuracy']\n",
    "    loss = history.history['loss']\n",
    "    val_loss = history.history['val_loss']\n",
    "    x = range(1, len(acc) + 1)\n",
    "\n",
    "    plt.figure(figsize=(12, 5))\n",
    "    plt.subplot(1, 2, 1)\n",
    "    plt.plot(x, acc, 'b', label='Training acc')\n",
    "    plt.plot(x, val_acc, 'r', label='Validation acc')\n",
    "    plt.title('Training and validation accuracy')\n",
    "    plt.legend()\n",
    "    plt.subplot(1, 2, 2)\n",
    "    plt.plot(x, loss, 'b', label='Training loss')\n",
    "    plt.plot(x, val_loss, 'r', label='Validation loss')\n",
    "    plt.title('Training and validation loss')\n",
    "    plt.legend()"
   ]
  },
  {
   "cell_type": "code",
   "execution_count": null,
   "id": "23efc6b6",
   "metadata": {},
   "outputs": [],
   "source": [
    "plot_history(history)"
   ]
  },
  {
   "cell_type": "markdown",
   "id": "4e5703d2",
   "metadata": {},
   "source": [
    "I tried optimizing network by: changing activation function(tried tanh and relu), changing size of receptive fields(tried 5x5 and 3x3),changing number of feature maps,looked for best epochs number and batch size, changing optimizer(svg and adam)."
   ]
  },
  {
   "cell_type": "code",
   "execution_count": null,
   "id": "a24233f6",
   "metadata": {},
   "outputs": [],
   "source": [
    "print(\"Accuracy on training data: {}\".format(model.evaluate(X_train, Y_train)))\n",
    "print(\"Accuracy on test data: {}\".format(model.evaluate(X_test, Y_test)))"
   ]
  },
  {
   "cell_type": "markdown",
   "id": "24436e57",
   "metadata": {},
   "source": [
    "### Gender\n",
    "Convolutional Neural Network"
   ]
  },
  {
   "cell_type": "code",
   "execution_count": null,
   "id": "91160cf8",
   "metadata": {},
   "outputs": [],
   "source": [
    "# Neural network requires specific shape of input so reshaping it\n",
    "scaled = pictures/255\n",
    "x = np.reshape(scaled,[-1,48,48,1])\n",
    "print(y_gender.shape)\n",
    "print(x.shape)\n",
    "#split again after reshaping pictures\n",
    "X_train, X_test, Y_train, Y_test = train_test_split(x, y_gender, stratify = y,random_state=69)"
   ]
  },
  {
   "cell_type": "code",
   "execution_count": null,
   "id": "f415435b",
   "metadata": {},
   "outputs": [],
   "source": [
    "#Initialize model\n",
    "model = Sequential()\n",
    "\n",
    "#Convolution layer\n",
    "model.add(Conv2D(32, (3,3), activation='relu', input_shape=X_train[0].shape)) #32 feature maps, 3*3 local receptive fields\n",
    "\n",
    "#Pooling layer - to reduce the dimensions of the hidden layer by combining the outputs of neuron clusters at the previous layer into a single neuron in the next layer\n",
    "model.add(MaxPooling2D(pool_size=(2,2)))\n",
    "\n",
    "#adds an extra channel dimension to flatten input\n",
    "model.add(Flatten())\n",
    "\n",
    "#Output layer\n",
    "model.add(Dense(units = 2, activation = 'softmax')) \n",
    "\n",
    "#Tried this SGD optimizer but using adam in the end, left it here for comparison\n",
    "#sgd = optimizers.SGD(learning_rate = 0.1) \n",
    "\n",
    "#Compiling model with 'adam' as optimizer\n",
    "model.compile(loss = 'categorical_crossentropy', optimizer = 'adam', metrics = ['accuracy']) \n",
    "\n",
    "history = model.fit(X_train, Y_train, epochs = 9, batch_size = 50, verbose = 1, validation_split = 0.3)"
   ]
  },
  {
   "cell_type": "code",
   "execution_count": null,
   "id": "35844ae8",
   "metadata": {},
   "outputs": [],
   "source": [
    "plot_history(history)\n",
    "cnn_score_gender_test = model.evaluate(X_test, Y_test)\n",
    "print(\"Accuracy on training data: {}\".format(model.evaluate(X_train, Y_train)))\n",
    "print(\"Accuracy on test data: {}\".format(model.evaluate(X_test, Y_test)))"
   ]
  },
  {
   "cell_type": "code",
   "execution_count": null,
   "id": "7500e353",
   "metadata": {},
   "outputs": [],
   "source": [
    "x=[1,2,3]\n",
    "y=[knn_score_gender_test, forest_score_gender_test, 0.8721106648445129]\n",
    "tick_label = ['K-NN', 'RandomForest', 'CNN']\n",
    "plt.bar(x, y, tick_label = tick_label,\n",
    "        width = 0.4, color = ['red', 'green', 'blue'])\n",
    "plt.xlabel('models')\n",
    "plt.ylabel('accuracy')\n",
    "plt.show()"
   ]
  },
  {
   "cell_type": "markdown",
   "id": "a05ca41d",
   "metadata": {},
   "source": [
    "Cumulative neural network shows better results than K-Neighbors and Random Forest"
   ]
  },
  {
   "cell_type": "markdown",
   "id": "97098cbb",
   "metadata": {},
   "source": [
    "### Ethnicity\n",
    "Convolutional Neural Network"
   ]
  },
  {
   "cell_type": "code",
   "execution_count": null,
   "id": "63e7e959",
   "metadata": {},
   "outputs": [],
   "source": [
    "y = to_categorical(df['ethnicity'], 5)\n",
    "scaled = pictures/255\n",
    "x = np.reshape(scaled,[-1,48,48,1])\n",
    "X_train, X_test, Y_train, Y_test = train_test_split(x, y, stratify = y,random_state=69)\n",
    "\n",
    "print(x.shape)\n",
    "print(y.shape)\n",
    "\n",
    "\n",
    "model = Sequential()\n",
    "model.add(Conv2D(32, (3,3), activation='tanh', input_shape=X_train[0].shape)) #32 feature maps, 3*3 local receptive fields\n",
    "model.add(MaxPooling2D(pool_size=(2,2)))\n",
    "\n",
    "model.add(Flatten())\n",
    "\n",
    "model.add(Dense(units = 5, activation = 'softmax')) \n",
    "\n",
    "sgd = optimizers.SGD(learning_rate = 0.1) \n",
    "\n",
    "model.compile(loss = 'categorical_crossentropy', optimizer = 'sgd', metrics = ['accuracy']) \n",
    "\n",
    "history = model.fit(X_train, Y_train, epochs = 35, batch_size = 100, verbose = 1, validation_split = 0.3)"
   ]
  },
  {
   "cell_type": "code",
   "execution_count": null,
   "id": "e2450f52",
   "metadata": {},
   "outputs": [],
   "source": [
    "plot_history(history)\n",
    "print(\"Accuracy on training data: {}\".format(model.evaluate(X_train, Y_train)))\n",
    "print(\"Accuracy on test data: {}\".format(model.evaluate(X_test, Y_test)))"
   ]
  },
  {
   "cell_type": "markdown",
   "id": "40a776d3",
   "metadata": {},
   "source": [
    "### 7. Present your solution\n",
    "1. Document what you have done\n",
    "2. Create a nice 15 minute video presentation with slides\n",
    "    * Make sure you highlight the big picture first\n",
    "3. Explain why your solution achieves the business objective\n",
    "4. Don't forget to present interesting points you noticed along the way:\n",
    "    * Describe what worked and what did not\n",
    "    * List your assumptions and you model's limitations\n",
    "5. Ensure your key findings are communicated through nice visualisations or easy-to-remember statements (e.g. \"the median income is the number-one predictor of housing prices\")\n",
    "6. Upload the presentation to some online platform, e.g. YouTube or Vimeo, and supply a link to the video in the notebook."
   ]
  },
  {
   "cell_type": "code",
   "execution_count": null,
   "id": "5c27b1a2",
   "metadata": {},
   "outputs": [],
   "source": []
  },
  {
   "cell_type": "code",
   "execution_count": null,
   "id": "f541003c",
   "metadata": {},
   "outputs": [],
   "source": []
  }
 ],
 "metadata": {
  "kernelspec": {
   "display_name": "Python 3 (ipykernel)",
   "language": "python",
   "name": "python3"
  },
  "language_info": {
   "codemirror_mode": {
    "name": "ipython",
    "version": 3
   },
   "file_extension": ".py",
   "mimetype": "text/x-python",
   "name": "python",
   "nbconvert_exporter": "python",
   "pygments_lexer": "ipython3",
   "version": "3.9.12"
  }
 },
 "nbformat": 4,
 "nbformat_minor": 5
}
