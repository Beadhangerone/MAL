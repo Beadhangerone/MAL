{
 "cells": [
  {
   "cell_type": "code",
   "execution_count": 1,
   "id": "e85fcedf",
   "metadata": {},
   "outputs": [],
   "source": [
    "import pandas as pd\n",
    "import numpy as np\n",
    "import matplotlib.pyplot as plt\n",
    "\n",
    "from tensorflow.keras.models import Sequential\n",
    "from tensorflow.keras.layers import Dense, Conv2D, MaxPooling2D, Flatten\n",
    "from tensorflow.keras.utils import to_categorical\n",
    "from tensorflow.keras import optimizers\n",
    "import seaborn as sns\n",
    "\n",
    "from sklearn.model_selection import train_test_split"
   ]
  },
  {
   "cell_type": "markdown",
   "id": "c29c9b25",
   "metadata": {},
   "source": [
    "__You should be able to start up on this exercise after Lecture 1.__\n",
    "\n",
    "*This exercise must be a group effort. That means everyone must participate in the assignment.*\n",
    "\n",
    "In this assignment you will solve a data science problem end-to-end, pretending to be recently hired data scientists in a company. To help you get started, we've prepared a checklist to guide you through the project. Here are the main steps that you will go through:\n",
    "\n",
    "1. Frame the problem and look at the big picture\n",
    "2. Get the data\n",
    "3. Explore and visualise the data to gain insights\n",
    "4. Prepare the data to better expose the underlying data patterns to machine learning algorithms\n",
    "5. Explore many different models and short-list the best ones\n",
    "6. Fine-tune your models\n",
    "7. Present your solution \n",
    "\n",
    "In each step we list a set of questions that one should have in mind when undertaking a data science project. The list is not meant to be exhaustive, but does contain a selection of the most important questions to ask. We will be available to provide assistance with each of the steps, and will allocate some part of each lesson towards working on the projects.\n",
    "\n",
    "Your group must submit a _**single**_ Jupyter notebook, structured in terms of the first 6 sections listed above (the seventh will be a video uploaded to some streaming platform, e.g. YouTube, Vimeo, etc.)."
   ]
  },
  {
   "cell_type": "markdown",
   "id": "fed36ff1",
   "metadata": {},
   "source": [
    "### 1. Analysis: Frame the problem and look at the big picture\n",
    "1. Find a problem/task that everyone in the group finds interesting\n",
    "2. Define the objective in business terms\n",
    "3. How should you frame the problem (supervised/unsupervised etc.)?\n",
    "4. How should performance be measured?"
   ]
  },
  {
   "cell_type": "markdown",
   "id": "38a2efbd",
   "metadata": {},
   "source": [
    "1. Facial recognition\n",
    "2. Let's predict gender, age and etnicity of person from given picture\n",
    "3. It is supervised classification\n",
    "4. Performance will be measured in terms of accuracy for each of given categories"
   ]
  },
  {
   "cell_type": "markdown",
   "id": "d8b4b5ad",
   "metadata": {},
   "source": [
    "### 2. Get the data\n",
    "1. Find and document where you can get the data from\n",
    "2. Get the data\n",
    "3. Check the size and type of data (time series, geographical etc)"
   ]
  },
  {
   "cell_type": "markdown",
   "id": "38d5260c",
   "metadata": {},
   "source": [
    "1. We will use \"age, gender and etnicity face data\" dataset from kaggle available at: https://www.kaggle.com/code/sanjay7013/age-gender-ethnicity-recognition/data  \n",
    "-age is an integer from 0 to 116, indicating the age  \n",
    "-gender is either 0 (male) or 1 (female)  \n",
    "-race is an integer from 0 to 4, denoting White, Black, Asian, Indian, and Others (like Hispanic, Latino, Middle Eastern).  "
   ]
  },
  {
   "cell_type": "code",
   "execution_count": 2,
   "id": "c7f1c15f",
   "metadata": {
    "scrolled": false
   },
   "outputs": [
    {
     "data": {
      "text/html": [
       "<div>\n",
       "<style scoped>\n",
       "    .dataframe tbody tr th:only-of-type {\n",
       "        vertical-align: middle;\n",
       "    }\n",
       "\n",
       "    .dataframe tbody tr th {\n",
       "        vertical-align: top;\n",
       "    }\n",
       "\n",
       "    .dataframe thead th {\n",
       "        text-align: right;\n",
       "    }\n",
       "</style>\n",
       "<table border=\"1\" class=\"dataframe\">\n",
       "  <thead>\n",
       "    <tr style=\"text-align: right;\">\n",
       "      <th></th>\n",
       "      <th>age</th>\n",
       "      <th>ethnicity</th>\n",
       "      <th>gender</th>\n",
       "      <th>img_name</th>\n",
       "      <th>pixels</th>\n",
       "    </tr>\n",
       "  </thead>\n",
       "  <tbody>\n",
       "    <tr>\n",
       "      <th>0</th>\n",
       "      <td>1</td>\n",
       "      <td>2</td>\n",
       "      <td>0</td>\n",
       "      <td>20161219203650636.jpg.chip.jpg</td>\n",
       "      <td>129 128 128 126 127 130 133 135 139 142 145 14...</td>\n",
       "    </tr>\n",
       "    <tr>\n",
       "      <th>1</th>\n",
       "      <td>1</td>\n",
       "      <td>2</td>\n",
       "      <td>0</td>\n",
       "      <td>20161219222752047.jpg.chip.jpg</td>\n",
       "      <td>164 74 111 168 169 171 175 182 184 188 193 199...</td>\n",
       "    </tr>\n",
       "    <tr>\n",
       "      <th>2</th>\n",
       "      <td>1</td>\n",
       "      <td>2</td>\n",
       "      <td>0</td>\n",
       "      <td>20161219222832191.jpg.chip.jpg</td>\n",
       "      <td>67 70 71 70 69 67 70 79 90 103 116 132 145 155...</td>\n",
       "    </tr>\n",
       "    <tr>\n",
       "      <th>3</th>\n",
       "      <td>1</td>\n",
       "      <td>2</td>\n",
       "      <td>0</td>\n",
       "      <td>20161220144911423.jpg.chip.jpg</td>\n",
       "      <td>193 197 198 200 199 200 202 203 204 205 208 21...</td>\n",
       "    </tr>\n",
       "    <tr>\n",
       "      <th>4</th>\n",
       "      <td>1</td>\n",
       "      <td>2</td>\n",
       "      <td>0</td>\n",
       "      <td>20161220144914327.jpg.chip.jpg</td>\n",
       "      <td>202 205 209 210 209 209 210 211 212 214 218 21...</td>\n",
       "    </tr>\n",
       "    <tr>\n",
       "      <th>...</th>\n",
       "      <td>...</td>\n",
       "      <td>...</td>\n",
       "      <td>...</td>\n",
       "      <td>...</td>\n",
       "      <td>...</td>\n",
       "    </tr>\n",
       "    <tr>\n",
       "      <th>23700</th>\n",
       "      <td>99</td>\n",
       "      <td>0</td>\n",
       "      <td>1</td>\n",
       "      <td>20170120221920654.jpg.chip.jpg</td>\n",
       "      <td>127 100 94 81 77 77 74 99 102 98 128 145 160 1...</td>\n",
       "    </tr>\n",
       "    <tr>\n",
       "      <th>23701</th>\n",
       "      <td>99</td>\n",
       "      <td>1</td>\n",
       "      <td>1</td>\n",
       "      <td>20170120134639935.jpg.chip.jpg</td>\n",
       "      <td>23 28 32 35 42 47 68 85 98 103 113 117 130 129...</td>\n",
       "    </tr>\n",
       "    <tr>\n",
       "      <th>23702</th>\n",
       "      <td>99</td>\n",
       "      <td>2</td>\n",
       "      <td>1</td>\n",
       "      <td>20170110182418864.jpg.chip.jpg</td>\n",
       "      <td>59 50 37 40 34 19 30 101 156 170 177 184 187 1...</td>\n",
       "    </tr>\n",
       "    <tr>\n",
       "      <th>23703</th>\n",
       "      <td>99</td>\n",
       "      <td>2</td>\n",
       "      <td>1</td>\n",
       "      <td>20170117195405372.jpg.chip.jpg</td>\n",
       "      <td>45 108 120 156 206 197 140 180 191 199 204 207...</td>\n",
       "    </tr>\n",
       "    <tr>\n",
       "      <th>23704</th>\n",
       "      <td>99</td>\n",
       "      <td>0</td>\n",
       "      <td>1</td>\n",
       "      <td>20170110182052119.jpg.chip.jpg</td>\n",
       "      <td>156 161 160 165 170 173 166 177 183 191 187 18...</td>\n",
       "    </tr>\n",
       "  </tbody>\n",
       "</table>\n",
       "<p>23705 rows × 5 columns</p>\n",
       "</div>"
      ],
      "text/plain": [
       "       age  ethnicity  gender                        img_name  \\\n",
       "0        1          2       0  20161219203650636.jpg.chip.jpg   \n",
       "1        1          2       0  20161219222752047.jpg.chip.jpg   \n",
       "2        1          2       0  20161219222832191.jpg.chip.jpg   \n",
       "3        1          2       0  20161220144911423.jpg.chip.jpg   \n",
       "4        1          2       0  20161220144914327.jpg.chip.jpg   \n",
       "...    ...        ...     ...                             ...   \n",
       "23700   99          0       1  20170120221920654.jpg.chip.jpg   \n",
       "23701   99          1       1  20170120134639935.jpg.chip.jpg   \n",
       "23702   99          2       1  20170110182418864.jpg.chip.jpg   \n",
       "23703   99          2       1  20170117195405372.jpg.chip.jpg   \n",
       "23704   99          0       1  20170110182052119.jpg.chip.jpg   \n",
       "\n",
       "                                                  pixels  \n",
       "0      129 128 128 126 127 130 133 135 139 142 145 14...  \n",
       "1      164 74 111 168 169 171 175 182 184 188 193 199...  \n",
       "2      67 70 71 70 69 67 70 79 90 103 116 132 145 155...  \n",
       "3      193 197 198 200 199 200 202 203 204 205 208 21...  \n",
       "4      202 205 209 210 209 209 210 211 212 214 218 21...  \n",
       "...                                                  ...  \n",
       "23700  127 100 94 81 77 77 74 99 102 98 128 145 160 1...  \n",
       "23701  23 28 32 35 42 47 68 85 98 103 113 117 130 129...  \n",
       "23702  59 50 37 40 34 19 30 101 156 170 177 184 187 1...  \n",
       "23703  45 108 120 156 206 197 140 180 191 199 204 207...  \n",
       "23704  156 161 160 165 170 173 166 177 183 191 187 18...  \n",
       "\n",
       "[23705 rows x 5 columns]"
      ]
     },
     "metadata": {},
     "output_type": "display_data"
    }
   ],
   "source": [
    "df = pd.read_csv('datasets/7/age_gender.csv')\n",
    "display(df)\n",
    "data = np.array(df)\n"
   ]
  },
  {
   "cell_type": "code",
   "execution_count": 3,
   "id": "f977f8c6",
   "metadata": {},
   "outputs": [
    {
     "data": {
      "text/plain": [
       "array([[[0.50588235],\n",
       "        [0.50196078],\n",
       "        [0.50196078],\n",
       "        ...,\n",
       "        [0.4627451 ],\n",
       "        [0.38823529],\n",
       "        [0.20784314]],\n",
       "\n",
       "       [[0.50980392],\n",
       "        [0.50588235],\n",
       "        [0.50196078],\n",
       "        ...,\n",
       "        [0.45882353],\n",
       "        [0.38431373],\n",
       "        [0.20392157]],\n",
       "\n",
       "       [[0.51372549],\n",
       "        [0.50588235],\n",
       "        [0.50980392],\n",
       "        ...,\n",
       "        [0.44705882],\n",
       "        [0.38039216],\n",
       "        [0.19607843]],\n",
       "\n",
       "       ...,\n",
       "\n",
       "       [[0.4745098 ],\n",
       "        [0.54117647],\n",
       "        [0.57647059],\n",
       "        ...,\n",
       "        [0.59215686],\n",
       "        [0.58823529],\n",
       "        [0.58039216]],\n",
       "\n",
       "       [[0.45882353],\n",
       "        [0.5372549 ],\n",
       "        [0.57254902],\n",
       "        ...,\n",
       "        [0.58431373],\n",
       "        [0.58039216],\n",
       "        [0.58039216]],\n",
       "\n",
       "       [[0.45098039],\n",
       "        [0.52941176],\n",
       "        [0.55686275],\n",
       "        ...,\n",
       "        [0.57254902],\n",
       "        [0.57254902],\n",
       "        [0.57254902]]])"
      ]
     },
     "execution_count": 3,
     "metadata": {},
     "output_type": "execute_result"
    }
   ],
   "source": [
    "### print(data.shape)\n",
    "\n",
    "scaled = []\n",
    "for a in df[\"pixels\"]:\n",
    "    scaled.append(list(map(lambda e: int(e) / 255, a.split(\" \"))))\n",
    "    \n",
    "scaled = np.reshape(scaled,[-1,48,48,1])\n",
    "scaled[0]\n",
    "#display(scaled)\n",
    "#df[\"pixels\"] = scaled\n",
    "#display(df.head)"
   ]
  },
  {
   "cell_type": "code",
   "execution_count": 4,
   "id": "431efc8e",
   "metadata": {},
   "outputs": [
    {
     "data": {
      "text/plain": [
       "array([[[[0.50588235],\n",
       "         [0.50196078],\n",
       "         [0.50196078],\n",
       "         ...,\n",
       "         [0.4627451 ],\n",
       "         [0.38823529],\n",
       "         [0.20784314]],\n",
       "\n",
       "        [[0.50980392],\n",
       "         [0.50588235],\n",
       "         [0.50196078],\n",
       "         ...,\n",
       "         [0.45882353],\n",
       "         [0.38431373],\n",
       "         [0.20392157]],\n",
       "\n",
       "        [[0.51372549],\n",
       "         [0.50588235],\n",
       "         [0.50980392],\n",
       "         ...,\n",
       "         [0.44705882],\n",
       "         [0.38039216],\n",
       "         [0.19607843]],\n",
       "\n",
       "        ...,\n",
       "\n",
       "        [[0.4745098 ],\n",
       "         [0.54117647],\n",
       "         [0.57647059],\n",
       "         ...,\n",
       "         [0.59215686],\n",
       "         [0.58823529],\n",
       "         [0.58039216]],\n",
       "\n",
       "        [[0.45882353],\n",
       "         [0.5372549 ],\n",
       "         [0.57254902],\n",
       "         ...,\n",
       "         [0.58431373],\n",
       "         [0.58039216],\n",
       "         [0.58039216]],\n",
       "\n",
       "        [[0.45098039],\n",
       "         [0.52941176],\n",
       "         [0.55686275],\n",
       "         ...,\n",
       "         [0.57254902],\n",
       "         [0.57254902],\n",
       "         [0.57254902]]],\n",
       "\n",
       "\n",
       "       [[[0.64313725],\n",
       "         [0.29019608],\n",
       "         [0.43529412],\n",
       "         ...,\n",
       "         [0.43529412],\n",
       "         [0.43529412],\n",
       "         [0.40784314]],\n",
       "\n",
       "        [[0.70196078],\n",
       "         [0.2745098 ],\n",
       "         [0.50196078],\n",
       "         ...,\n",
       "         [0.43921569],\n",
       "         [0.44313725],\n",
       "         [0.42352941]],\n",
       "\n",
       "        [[0.69019608],\n",
       "         [0.27843137],\n",
       "         [0.57254902],\n",
       "         ...,\n",
       "         [0.43921569],\n",
       "         [0.43921569],\n",
       "         [0.42745098]],\n",
       "\n",
       "        ...,\n",
       "\n",
       "        [[0.75294118],\n",
       "         [0.76862745],\n",
       "         [0.92156863],\n",
       "         ...,\n",
       "         [0.43529412],\n",
       "         [0.48627451],\n",
       "         [0.43921569]],\n",
       "\n",
       "        [[0.90196078],\n",
       "         [0.88627451],\n",
       "         [0.91372549],\n",
       "         ...,\n",
       "         [0.77647059],\n",
       "         [0.77254902],\n",
       "         [0.70588235]],\n",
       "\n",
       "        [[0.93333333],\n",
       "         [0.9372549 ],\n",
       "         [0.91372549],\n",
       "         ...,\n",
       "         [0.71372549],\n",
       "         [0.66666667],\n",
       "         [0.58039216]]],\n",
       "\n",
       "\n",
       "       [[[0.2627451 ],\n",
       "         [0.2745098 ],\n",
       "         [0.27843137],\n",
       "         ...,\n",
       "         [0.77254902],\n",
       "         [0.76078431],\n",
       "         [0.75294118]],\n",
       "\n",
       "        [[0.25490196],\n",
       "         [0.25882353],\n",
       "         [0.27058824],\n",
       "         ...,\n",
       "         [0.77254902],\n",
       "         [0.76078431],\n",
       "         [0.75294118]],\n",
       "\n",
       "        [[0.23921569],\n",
       "         [0.24705882],\n",
       "         [0.27058824],\n",
       "         ...,\n",
       "         [0.77254902],\n",
       "         [0.76078431],\n",
       "         [0.74509804]],\n",
       "\n",
       "        ...,\n",
       "\n",
       "        [[0.62352941],\n",
       "         [0.61568627],\n",
       "         [0.62352941],\n",
       "         ...,\n",
       "         [0.44705882],\n",
       "         [0.41176471],\n",
       "         [0.41176471]],\n",
       "\n",
       "        [[0.4       ],\n",
       "         [0.44705882],\n",
       "         [0.43137255],\n",
       "         ...,\n",
       "         [0.44705882],\n",
       "         [0.43137255],\n",
       "         [0.41960784]],\n",
       "\n",
       "        [[0.38431373],\n",
       "         [0.38039216],\n",
       "         [0.37254902],\n",
       "         ...,\n",
       "         [0.43921569],\n",
       "         [0.43529412],\n",
       "         [0.42352941]]],\n",
       "\n",
       "\n",
       "       ...,\n",
       "\n",
       "\n",
       "       [[[0.23137255],\n",
       "         [0.19607843],\n",
       "         [0.14509804],\n",
       "         ...,\n",
       "         [0.46666667],\n",
       "         [0.44313725],\n",
       "         [0.38431373]],\n",
       "\n",
       "        [[0.21960784],\n",
       "         [0.18823529],\n",
       "         [0.17254902],\n",
       "         ...,\n",
       "         [0.43529412],\n",
       "         [0.45098039],\n",
       "         [0.38039216]],\n",
       "\n",
       "        [[0.15686275],\n",
       "         [0.1254902 ],\n",
       "         [0.10196078],\n",
       "         ...,\n",
       "         [0.42352941],\n",
       "         [0.45882353],\n",
       "         [0.39607843]],\n",
       "\n",
       "        ...,\n",
       "\n",
       "        [[0.1372549 ],\n",
       "         [0.21568627],\n",
       "         [0.41568627],\n",
       "         ...,\n",
       "         [0.36470588],\n",
       "         [0.23921569],\n",
       "         [0.25490196]],\n",
       "\n",
       "        [[0.16078431],\n",
       "         [0.15686275],\n",
       "         [0.27843137],\n",
       "         ...,\n",
       "         [0.40784314],\n",
       "         [0.25882353],\n",
       "         [0.27843137]],\n",
       "\n",
       "        [[0.18431373],\n",
       "         [0.1372549 ],\n",
       "         [0.17647059],\n",
       "         ...,\n",
       "         [0.38431373],\n",
       "         [0.30588235],\n",
       "         [0.30588235]]],\n",
       "\n",
       "\n",
       "       [[[0.17647059],\n",
       "         [0.42352941],\n",
       "         [0.47058824],\n",
       "         ...,\n",
       "         [0.12156863],\n",
       "         [0.14117647],\n",
       "         [0.20784314]],\n",
       "\n",
       "        [[0.28627451],\n",
       "         [0.36862745],\n",
       "         [0.54901961],\n",
       "         ...,\n",
       "         [0.11372549],\n",
       "         [0.11764706],\n",
       "         [0.17647059]],\n",
       "\n",
       "        [[0.34509804],\n",
       "         [0.43529412],\n",
       "         [0.62745098],\n",
       "         ...,\n",
       "         [0.10980392],\n",
       "         [0.04705882],\n",
       "         [0.12941176]],\n",
       "\n",
       "        ...,\n",
       "\n",
       "        [[0.02352941],\n",
       "         [0.00784314],\n",
       "         [0.03921569],\n",
       "         ...,\n",
       "         [0.03137255],\n",
       "         [0.05490196],\n",
       "         [0.13333333]],\n",
       "\n",
       "        [[0.00784314],\n",
       "         [0.01568627],\n",
       "         [0.20392157],\n",
       "         ...,\n",
       "         [0.0627451 ],\n",
       "         [0.2       ],\n",
       "         [0.16078431]],\n",
       "\n",
       "        [[0.00392157],\n",
       "         [0.14117647],\n",
       "         [0.2745098 ],\n",
       "         ...,\n",
       "         [0.1254902 ],\n",
       "         [0.1372549 ],\n",
       "         [0.1372549 ]]],\n",
       "\n",
       "\n",
       "       [[[0.61176471],\n",
       "         [0.63137255],\n",
       "         [0.62745098],\n",
       "         ...,\n",
       "         [0.58431373],\n",
       "         [0.56078431],\n",
       "         [0.57254902]],\n",
       "\n",
       "        [[0.6       ],\n",
       "         [0.56862745],\n",
       "         [0.64313725],\n",
       "         ...,\n",
       "         [0.57647059],\n",
       "         [0.54117647],\n",
       "         [0.51764706]],\n",
       "\n",
       "        [[0.58039216],\n",
       "         [0.56862745],\n",
       "         [0.62352941],\n",
       "         ...,\n",
       "         [0.58431373],\n",
       "         [0.54901961],\n",
       "         [0.55686275]],\n",
       "\n",
       "        ...,\n",
       "\n",
       "        [[0.8       ],\n",
       "         [0.85882353],\n",
       "         [0.87058824],\n",
       "         ...,\n",
       "         [0.74117647],\n",
       "         [0.72156863],\n",
       "         [0.6745098 ]],\n",
       "\n",
       "        [[0.83529412],\n",
       "         [0.82352941],\n",
       "         [0.8745098 ],\n",
       "         ...,\n",
       "         [0.76470588],\n",
       "         [0.74901961],\n",
       "         [0.65882353]],\n",
       "\n",
       "        [[0.83137255],\n",
       "         [0.85490196],\n",
       "         [0.87058824],\n",
       "         ...,\n",
       "         [0.74509804],\n",
       "         [0.72156863],\n",
       "         [0.68235294]]]])"
      ]
     },
     "metadata": {},
     "output_type": "display_data"
    },
    {
     "name": "stdout",
     "output_type": "stream",
     "text": [
      "2304 pixels\n"
     ]
    }
   ],
   "source": [
    "#scaled = np.array(scaled)\n",
    "sample = scaled[69]\n",
    "display(scaled)\n",
    "print(sample.size, \"pixels\")"
   ]
  },
  {
   "cell_type": "code",
   "execution_count": 5,
   "id": "5e00df9d",
   "metadata": {},
   "outputs": [
    {
     "data": {
      "image/png": "[encoded data removed]",
      "text/plain": [
       "<Figure size 432x288 with 1 Axes>"
      ]
     },
     "metadata": {
      "needs_background": "light"
     },
     "output_type": "display_data"
    }
   ],
   "source": [
    "#scaled = np.array(scaled)\n",
    "#sample = scaled[69]\n",
    "#print(sample.size, \"pixels\")\n",
    "\n",
    "plt.imshow(sample.reshape(48,48), cmap='gray')\n",
    "plt.show()\n"
   ]
  },
  {
   "cell_type": "code",
   "execution_count": 6,
   "id": "ec520723",
   "metadata": {},
   "outputs": [
    {
     "data": {
      "text/plain": [
       "0        0\n",
       "1        0\n",
       "2        0\n",
       "3        0\n",
       "4        0\n",
       "        ..\n",
       "23700    5\n",
       "23701    5\n",
       "23702    5\n",
       "23703    5\n",
       "23704    5\n",
       "Name: age, Length: 23705, dtype: category\n",
       "Categories (6, object): ['0' < '1' < '2' < '3' < '4' < '5']"
      ]
     },
     "metadata": {},
     "output_type": "display_data"
    },
    {
     "name": "stderr",
     "output_type": "stream",
     "text": [
      "C:\\Users\\themr\\anaconda3\\lib\\site-packages\\seaborn\\_decorators.py:36: FutureWarning: Pass the following variable as a keyword arg: x. From version 0.12, the only valid positional argument will be `data`, and passing other arguments without an explicit keyword will result in an error or misinterpretation.\n",
      "  warnings.warn(\n"
     ]
    },
    {
     "data": {
      "text/plain": [
       "Text(0.5, 1.0, 'Number of age')"
      ]
     },
     "execution_count": 6,
     "metadata": {},
     "output_type": "execute_result"
    },
    {
     "data": {
      "image/png": "[encoded data removed]",
      "text/plain": [
       "<Figure size 1080x504 with 1 Axes>"
      ]
     },
     "metadata": {
      "needs_background": "light"
     },
     "output_type": "display_data"
    }
   ],
   "source": [
    "#under representation of age data - so binning\n",
    "#age_map = {0:\"0-3\",1:\"3-18\",2:\"18-45\",3:\"45-64\",4:\"64-116\"}\n",
    "#bins=[0,6,18,25,30,45,64,116],labels=[\"0\",\"1\",\"2\",\"3\",\"4\",\"5\",\"6\"]\n",
    "ages = pd.cut(df[\"age\"],bins=[0,10,25,30,45,64,116],labels=[\"0\",\"1\",\"2\",\"3\",\"4\",\"5\"])#pd.qcut(df['age'], 10,labels = [\"0-6\",\"6-20\",\"20-25\",\"25-26\",\"26-29\",\"29-34\",\"34-40\",\"40-50\",\"50-61\",\"61-116\"])\n",
    "display(ages)\n",
    "plt.figure(figsize=(15,7))\n",
    "g = sns.countplot(ages, palette=\"icefire\")\n",
    "plt.title(\"Number of age\")"
   ]
  },
  {
   "cell_type": "code",
   "execution_count": 7,
   "id": "69cc60b5",
   "metadata": {},
   "outputs": [
    {
     "name": "stdout",
     "output_type": "stream",
     "text": [
      "(17778, 48, 48, 1)\n"
     ]
    },
    {
     "data": {
      "text/plain": [
       "(17778, 6)"
      ]
     },
     "execution_count": 7,
     "metadata": {},
     "output_type": "execute_result"
    }
   ],
   "source": [
    "aa = ages#np.array(ages)\n",
    "y = to_categorical(aa, 6)\n",
    "x = scaled\n",
    "\n",
    "X_train, X_test, Y_train, Y_test = train_test_split(x, y, stratify = y)\n",
    "print(X_train.shape)\n",
    "Y_train.shape"
   ]
  },
  {
   "cell_type": "code",
   "execution_count": 8,
   "id": "b8a41ba3",
   "metadata": {},
   "outputs": [
    {
     "name": "stdout",
     "output_type": "stream",
     "text": [
      "Epoch 1/10\n",
      "249/249 [==============================] - 10s 38ms/step - loss: 1.4626 - accuracy: 0.3804 - val_loss: 1.3045 - val_accuracy: 0.4445\n",
      "Epoch 2/10\n",
      "249/249 [==============================] - 8s 33ms/step - loss: 1.2115 - accuracy: 0.4830 - val_loss: 1.2107 - val_accuracy: 0.4745\n",
      "Epoch 3/10\n",
      "249/249 [==============================] - 8s 34ms/step - loss: 1.1272 - accuracy: 0.5185 - val_loss: 1.1748 - val_accuracy: 0.4861\n",
      "Epoch 4/10\n",
      "249/249 [==============================] - 8s 31ms/step - loss: 1.0716 - accuracy: 0.5501 - val_loss: 1.1432 - val_accuracy: 0.5062\n",
      "Epoch 5/10\n",
      "249/249 [==============================] - 8s 33ms/step - loss: 1.0333 - accuracy: 0.5645 - val_loss: 1.1337 - val_accuracy: 0.5090\n",
      "Epoch 6/10\n",
      "249/249 [==============================] - 9s 37ms/step - loss: 0.9998 - accuracy: 0.5799 - val_loss: 1.1261 - val_accuracy: 0.5079\n",
      "Epoch 7/10\n",
      "249/249 [==============================] - 8s 33ms/step - loss: 0.9684 - accuracy: 0.5912 - val_loss: 1.1164 - val_accuracy: 0.5082\n",
      "Epoch 8/10\n",
      "249/249 [==============================] - 8s 33ms/step - loss: 0.9432 - accuracy: 0.6094 - val_loss: 1.1399 - val_accuracy: 0.5096\n",
      "Epoch 9/10\n",
      "249/249 [==============================] - 8s 33ms/step - loss: 0.9180 - accuracy: 0.6230 - val_loss: 1.1537 - val_accuracy: 0.4996\n",
      "Epoch 10/10\n",
      "249/249 [==============================] - 8s 33ms/step - loss: 0.8982 - accuracy: 0.6271 - val_loss: 1.1271 - val_accuracy: 0.5109\n"
     ]
    }
   ],
   "source": [
    "model = Sequential()\n",
    "\n",
    "model.add(Conv2D(32, (3,3), activation='tanh', input_shape=X_train[0].shape)) #32 feature maps, 3*3 local receptive fields\n",
    "model.add(MaxPooling2D(pool_size=(2,2)))\n",
    "model.add(Flatten())\n",
    "model.add(Dense(units = 6, activation = 'softmax')) #fully connected output layer\n",
    "\n",
    "sgd = optimizers.SGD(learning_rate = 0.1) \n",
    "\n",
    "model.compile(loss = 'categorical_crossentropy', optimizer = 'adam', metrics = ['accuracy']) #try also adam \n",
    "\n",
    "history = model.fit(X_train, Y_train, epochs = 10, batch_size = 50, verbose = 1, validation_split = 0.3)"
   ]
  },
  {
   "cell_type": "code",
   "execution_count": 9,
   "id": "d6714fac",
   "metadata": {},
   "outputs": [
    {
     "data": {
      "text/plain": [
       "Text(0, 0.5, 'Accuracy')"
      ]
     },
     "execution_count": 9,
     "metadata": {},
     "output_type": "execute_result"
    },
    {
     "data": {
      "image/png": "[encoded data removed]",
      "text/plain": [
       "<Figure size 432x288 with 1 Axes>"
      ]
     },
     "metadata": {
      "needs_background": "light"
     },
     "output_type": "display_data"
    }
   ],
   "source": [
    "steps = len(history.history['accuracy'])\n",
    "plt.plot(np.arange(steps), history.history['accuracy'], label = 'Train')\n",
    "plt.plot(np.arange(steps), history.history['val_accuracy'], label = 'Valid')\n",
    "plt.legend()\n",
    "plt.xlabel('Epochs')\n",
    "plt.ylabel('Accuracy')"
   ]
  },
  {
   "cell_type": "code",
   "execution_count": 10,
   "id": "0a437c6a",
   "metadata": {},
   "outputs": [
    {
     "name": "stdout",
     "output_type": "stream",
     "text": [
      "556/556 [==============================] - 3s 6ms/step - loss: 0.9284 - accuracy: 0.6159\n",
      "Accuracy on training data: [0.9283664226531982, 0.6158735752105713]\n",
      "186/186 [==============================] - 1s 7ms/step - loss: 1.1332 - accuracy: 0.5195\n",
      "Accuracy on test data: [1.1332381963729858, 0.5194870829582214]\n"
     ]
    }
   ],
   "source": [
    "print(\"Accuracy on training data: {}\".format(model.evaluate(X_train, Y_train)))\n",
    "print(\"Accuracy on test data: {}\".format(model.evaluate(X_test, Y_test)))"
   ]
  },
  {
   "cell_type": "code",
   "execution_count": 11,
   "id": "911e4a26",
   "metadata": {
    "scrolled": true
   },
   "outputs": [
    {
     "data": {
      "text/plain": [
       "0          male\n",
       "1          male\n",
       "2          male\n",
       "3          male\n",
       "4          male\n",
       "          ...  \n",
       "23700    female\n",
       "23701    female\n",
       "23702    female\n",
       "23703    female\n",
       "23704    female\n",
       "Name: gender, Length: 23705, dtype: object"
      ]
     },
     "metadata": {},
     "output_type": "display_data"
    },
    {
     "data": {
      "text/plain": [
       "Text(0.5, 1.0, 'gender representation')"
      ]
     },
     "execution_count": 11,
     "metadata": {},
     "output_type": "execute_result"
    },
    {
     "data": {
      "image/png": "[encoded data removed]",
      "text/plain": [
       "<Figure size 1080x504 with 1 Axes>"
      ]
     },
     "metadata": {
      "needs_background": "light"
     },
     "output_type": "display_data"
    }
   ],
   "source": [
    "#under representation of gender data\n",
    "genders = df['gender']\n",
    "genders = genders.replace(0, 'male')\n",
    "genders = genders.replace(1, 'female')\n",
    "display(genders)\n",
    "\n",
    "plt.figure(figsize=(15,7))\n",
    "g = sns.countplot(x = genders, palette=\"icefire\")\n",
    "plt.title(\"gender representation\")"
   ]
  },
  {
   "cell_type": "code",
   "execution_count": 20,
   "id": "385fdc4f",
   "metadata": {},
   "outputs": [
    {
     "data": {
      "text/plain": [
       "0        0\n",
       "1        0\n",
       "2        0\n",
       "3        0\n",
       "4        0\n",
       "        ..\n",
       "23700    1\n",
       "23701    1\n",
       "23702    1\n",
       "23703    1\n",
       "23704    1\n",
       "Name: gender, Length: 23705, dtype: int64"
      ]
     },
     "metadata": {},
     "output_type": "display_data"
    },
    {
     "data": {
      "text/plain": [
       "array([[1, 0],\n",
       "       [1, 0],\n",
       "       [1, 0],\n",
       "       ...,\n",
       "       [0, 1],\n",
       "       [0, 1],\n",
       "       [0, 1]])"
      ]
     },
     "metadata": {},
     "output_type": "display_data"
    },
    {
     "name": "stdout",
     "output_type": "stream",
     "text": [
      "(17778, 48, 48, 1)\n"
     ]
    },
    {
     "data": {
      "text/plain": [
       "(17778, 2)"
      ]
     },
     "execution_count": 20,
     "metadata": {},
     "output_type": "execute_result"
    }
   ],
   "source": [
    "from sklearn.ensemble import RandomForestClassifier\n",
    "data = df['gender']\n",
    "display(df['gender'])\n",
    "y = to_categorical(data, num_classes = 2, dtype =\"int32\")\n",
    "display(y)\n",
    "x = scaled\n",
    "\n",
    "X_train, X_test, Y_train, Y_test = train_test_split(x, y, stratify = y)\n",
    "print(X_train.shape)\n",
    "Y_train.shape"
   ]
  },
  {
   "cell_type": "code",
   "execution_count": 13,
   "id": "adea091f",
   "metadata": {},
   "outputs": [
    {
     "name": "stdout",
     "output_type": "stream",
     "text": [
      "Epoch 1/10\n",
      "249/249 [==============================] - 9s 33ms/step - loss: 0.4749 - accuracy: 0.7770 - val_loss: 0.3806 - val_accuracy: 0.8300\n",
      "Epoch 2/10\n",
      "249/249 [==============================] - 8s 32ms/step - loss: 0.3666 - accuracy: 0.8411 - val_loss: 0.3459 - val_accuracy: 0.8495\n",
      "Epoch 3/10\n",
      "249/249 [==============================] - 8s 34ms/step - loss: 0.3380 - accuracy: 0.8537 - val_loss: 0.3281 - val_accuracy: 0.8613\n",
      "Epoch 4/10\n",
      "249/249 [==============================] - 8s 31ms/step - loss: 0.3209 - accuracy: 0.8646 - val_loss: 0.3220 - val_accuracy: 0.8673\n",
      "Epoch 5/10\n",
      "249/249 [==============================] - 8s 32ms/step - loss: 0.3088 - accuracy: 0.8692 - val_loss: 0.3211 - val_accuracy: 0.8658\n",
      "Epoch 6/10\n",
      "249/249 [==============================] - 8s 31ms/step - loss: 0.2992 - accuracy: 0.8717 - val_loss: 0.3114 - val_accuracy: 0.8603\n",
      "Epoch 7/10\n",
      "249/249 [==============================] - 8s 32ms/step - loss: 0.2893 - accuracy: 0.8794 - val_loss: 0.3326 - val_accuracy: 0.8495\n",
      "Epoch 8/10\n",
      "249/249 [==============================] - 8s 33ms/step - loss: 0.2826 - accuracy: 0.8822 - val_loss: 0.3004 - val_accuracy: 0.8686\n",
      "Epoch 9/10\n",
      "249/249 [==============================] - 8s 34ms/step - loss: 0.2741 - accuracy: 0.8869 - val_loss: 0.3073 - val_accuracy: 0.8695\n",
      "Epoch 10/10\n",
      "249/249 [==============================] - 8s 31ms/step - loss: 0.2649 - accuracy: 0.8887 - val_loss: 0.3081 - val_accuracy: 0.8673\n"
     ]
    }
   ],
   "source": [
    "model = Sequential()\n",
    "\n",
    "model.add(Conv2D(32, (3,3), activation='tanh', input_shape=X_train[0].shape)) #32 feature maps, 3*3 local receptive fields\n",
    "model.add(MaxPooling2D(pool_size=(2,2)))\n",
    "model.add(Flatten())\n",
    "model.add(Dense(units = 2, activation = 'softmax')) #fully connected output layer\n",
    "\n",
    "sgd = optimizers.SGD(learning_rate = 0.1) \n",
    "\n",
    "model.compile(loss = 'categorical_crossentropy', optimizer = 'adam', metrics = ['accuracy']) #try also adam \n",
    "\n",
    "history = model.fit(X_train, Y_train, epochs = 10, batch_size = 50, verbose = 1, validation_split = 0.3)"
   ]
  },
  {
   "cell_type": "code",
   "execution_count": 14,
   "id": "1bdbb5cc",
   "metadata": {},
   "outputs": [
    {
     "data": {
      "text/plain": [
       "Text(0, 0.5, 'Accuracy')"
      ]
     },
     "execution_count": 14,
     "metadata": {},
     "output_type": "execute_result"
    },
    {
     "data": {
      "image/png": "[encoded data removed]",
      "text/plain": [
       "<Figure size 432x288 with 1 Axes>"
      ]
     },
     "metadata": {
      "needs_background": "light"
     },
     "output_type": "display_data"
    }
   ],
   "source": [
    "steps = len(history.history['accuracy'])\n",
    "plt.plot(np.arange(steps), history.history['accuracy'], label = 'Train')\n",
    "plt.plot(np.arange(steps), history.history['val_accuracy'], label = 'Valid')\n",
    "plt.legend()\n",
    "plt.xlabel('Epochs')\n",
    "plt.ylabel('Accuracy')"
   ]
  },
  {
   "cell_type": "code",
   "execution_count": 15,
   "id": "f582b112",
   "metadata": {},
   "outputs": [
    {
     "data": {
      "text/plain": [
       "numpy.ndarray"
      ]
     },
     "metadata": {},
     "output_type": "display_data"
    },
    {
     "data": {
      "text/html": [
       "<div>\n",
       "<style scoped>\n",
       "    .dataframe tbody tr th:only-of-type {\n",
       "        vertical-align: middle;\n",
       "    }\n",
       "\n",
       "    .dataframe tbody tr th {\n",
       "        vertical-align: top;\n",
       "    }\n",
       "\n",
       "    .dataframe thead th {\n",
       "        text-align: right;\n",
       "    }\n",
       "</style>\n",
       "<table border=\"1\" class=\"dataframe\">\n",
       "  <thead>\n",
       "    <tr style=\"text-align: right;\">\n",
       "      <th></th>\n",
       "      <th>gender</th>\n",
       "      <th>pixels</th>\n",
       "    </tr>\n",
       "  </thead>\n",
       "  <tbody>\n",
       "    <tr>\n",
       "      <th>0</th>\n",
       "      <td>0</td>\n",
       "      <td>[[[0.5058823529411764], [0.5019607843137255], ...</td>\n",
       "    </tr>\n",
       "    <tr>\n",
       "      <th>1</th>\n",
       "      <td>0</td>\n",
       "      <td>[[[0.6431372549019608], [0.2901960784313726], ...</td>\n",
       "    </tr>\n",
       "    <tr>\n",
       "      <th>2</th>\n",
       "      <td>0</td>\n",
       "      <td>[[[0.2627450980392157], [0.27450980392156865],...</td>\n",
       "    </tr>\n",
       "    <tr>\n",
       "      <th>3</th>\n",
       "      <td>0</td>\n",
       "      <td>[[[0.7568627450980392], [0.7725490196078432], ...</td>\n",
       "    </tr>\n",
       "    <tr>\n",
       "      <th>4</th>\n",
       "      <td>0</td>\n",
       "      <td>[[[0.792156862745098], [0.803921568627451], [0...</td>\n",
       "    </tr>\n",
       "    <tr>\n",
       "      <th>...</th>\n",
       "      <td>...</td>\n",
       "      <td>...</td>\n",
       "    </tr>\n",
       "    <tr>\n",
       "      <th>23700</th>\n",
       "      <td>1</td>\n",
       "      <td>[[[0.4980392156862745], [0.39215686274509803],...</td>\n",
       "    </tr>\n",
       "    <tr>\n",
       "      <th>23701</th>\n",
       "      <td>1</td>\n",
       "      <td>[[[0.09019607843137255], [0.10980392156862745]...</td>\n",
       "    </tr>\n",
       "    <tr>\n",
       "      <th>23702</th>\n",
       "      <td>1</td>\n",
       "      <td>[[[0.23137254901960785], [0.19607843137254902]...</td>\n",
       "    </tr>\n",
       "    <tr>\n",
       "      <th>23703</th>\n",
       "      <td>1</td>\n",
       "      <td>[[[0.17647058823529413], [0.4235294117647059],...</td>\n",
       "    </tr>\n",
       "    <tr>\n",
       "      <th>23704</th>\n",
       "      <td>1</td>\n",
       "      <td>[[[0.611764705882353], [0.6313725490196078], [...</td>\n",
       "    </tr>\n",
       "  </tbody>\n",
       "</table>\n",
       "<p>23705 rows × 2 columns</p>\n",
       "</div>"
      ],
      "text/plain": [
       "       gender                                             pixels\n",
       "0           0  [[[0.5058823529411764], [0.5019607843137255], ...\n",
       "1           0  [[[0.6431372549019608], [0.2901960784313726], ...\n",
       "2           0  [[[0.2627450980392157], [0.27450980392156865],...\n",
       "3           0  [[[0.7568627450980392], [0.7725490196078432], ...\n",
       "4           0  [[[0.792156862745098], [0.803921568627451], [0...\n",
       "...       ...                                                ...\n",
       "23700       1  [[[0.4980392156862745], [0.39215686274509803],...\n",
       "23701       1  [[[0.09019607843137255], [0.10980392156862745]...\n",
       "23702       1  [[[0.23137254901960785], [0.19607843137254902]...\n",
       "23703       1  [[[0.17647058823529413], [0.4235294117647059],...\n",
       "23704       1  [[[0.611764705882353], [0.6313725490196078], [...\n",
       "\n",
       "[23705 rows x 2 columns]"
      ]
     },
     "metadata": {},
     "output_type": "display_data"
    }
   ],
   "source": [
    "## Data prep \n",
    "data = df\n",
    "display(type(scaled))\n",
    "data['pixels'] = list(scaled)\n",
    "data = data.drop(['img_name', 'age', 'ethnicity'], axis=1)\n",
    "display(data)"
   ]
  },
  {
   "cell_type": "code",
   "execution_count": 16,
   "id": "20cad7d4",
   "metadata": {},
   "outputs": [],
   "source": [
    "## sklearn expects 2d array-model\n",
    "## code reshapes train set images, which is 4d array to a 2d array\n",
    "nsamples, nx, ny, nrgb = X_train.shape\n",
    "X_train2 = X_train.reshape((nsamples,nx*ny*nrgb))\n",
    "nsamples, nx, ny, nrgb = X_test.shape\n",
    "X_test2 = X_test.reshape((nsamples,nx*ny*nrgb))"
   ]
  },
  {
   "cell_type": "code",
   "execution_count": 17,
   "id": "0693a79f",
   "metadata": {},
   "outputs": [
    {
     "name": "stdout",
     "output_type": "stream",
     "text": [
      "Model accuracy on the original/test? data: 0.8096844946853383\n",
      "Model accuracy on the train data: 0.9985937675779053\n"
     ]
    }
   ],
   "source": [
    "# Train Random foress (gender data) with default parameters\n",
    "forest = RandomForestClassifier()\n",
    "forest.fit(X_train2, Y_train)\n",
    "\n",
    "print(\"Model accuracy on the original/test? data: {}\".format(forest.score(X_test2,Y_test)))\n",
    "print(\"Model accuracy on the train data: {}\".format(forest.score(X_train2,Y_train)))"
   ]
  },
  {
   "cell_type": "markdown",
   "id": "765a17ef",
   "metadata": {},
   "source": [
    "We can overfitting issue as model accuracy is slightly different on test abd train data"
   ]
  },
  {
   "cell_type": "code",
   "execution_count": 24,
   "id": "7b249433",
   "metadata": {},
   "outputs": [
    {
     "data": {
      "text/plain": [
       "array([[0, 1],\n",
       "       [0, 1],\n",
       "       [1, 0],\n",
       "       ...,\n",
       "       [1, 0],\n",
       "       [1, 0],\n",
       "       [0, 1]])"
      ]
     },
     "execution_count": 24,
     "metadata": {},
     "output_type": "execute_result"
    }
   ],
   "source": [
    "# Trying to predict \n",
    "## [1, 0] stands for male\n",
    "## [0, 1] stands for female\n",
    "\n",
    "Y_pred=forest.predict(X_test2)\n",
    "Y_pred"
   ]
  },
  {
   "cell_type": "code",
   "execution_count": 25,
   "id": "583adbd5",
   "metadata": {},
   "outputs": [
    {
     "name": "stdout",
     "output_type": "stream",
     "text": [
      "              precision    recall  f1-score   support\n",
      "\n",
      "           0       0.56      0.53      0.54      3296\n",
      "           1       0.43      0.48      0.45      2553\n",
      "\n",
      "   micro avg       0.50      0.51      0.50      5849\n",
      "   macro avg       0.50      0.50      0.50      5849\n",
      "weighted avg       0.50      0.51      0.50      5849\n",
      " samples avg       0.50      0.50      0.50      5849\n",
      "\n"
     ]
    },
    {
     "name": "stderr",
     "output_type": "stream",
     "text": [
      "C:\\Users\\themr\\anaconda3\\lib\\site-packages\\sklearn\\metrics\\_classification.py:1318: UndefinedMetricWarning: Recall and F-score are ill-defined and being set to 0.0 in samples with no true labels. Use `zero_division` parameter to control this behavior.\n",
      "  _warn_prf(average, modifier, msg_start, len(result))\n"
     ]
    }
   ],
   "source": [
    "from sklearn.metrics import accuracy_score,confusion_matrix,classification_report\n",
    "accuracy_score(Y_pred,Y_test)\n",
    "print(classification_report(Y_pred,Y_test))"
   ]
  },
  {
   "cell_type": "code",
   "execution_count": null,
   "id": "b73abd75",
   "metadata": {},
   "outputs": [
    {
     "name": "stdout",
     "output_type": "stream",
     "text": [
      "1 0.8127460906738666 0.49333558292559476 0.31941050774827184\n",
      "2 0.6629542130723366 0.2647207693605534 0.3982334437117832\n",
      "3 0.9050511868601643 0.49772228783532985 0.40732889902483443\n",
      "4 0.8392395095061311 0.32276024970474104 0.5164792598013901\n",
      "5 0.9470131623354708 0.49805972667454024 0.4489534356609306\n",
      "6 0.9115761052986837 0.3561666947865699 0.5554094105121138\n",
      "7 0.9691753853076837 0.4990720431921714 0.47010334211551225\n",
      "8 0.9526380920238497 0.3821494854057702 0.5704886066180795\n",
      "9 0.9795815052311846 0.4975535684157246 0.48202793681545997\n",
      "10 0.9694566317921026 0.3929475282605028 0.5765091035315999\n",
      "11 0.9852064349195635 0.4990720431921714 0.4861343917273921\n",
      "12 0.9804814939813252 0.40830099544457565 0.5721804985367496\n",
      "13 0.9883001462481719 0.5051459422979585 0.48315420395021336\n",
      "14 0.9853751828102149 0.41471233338957314 0.5706628494206417\n",
      "15 0.99094386320171 0.5085203306900624 0.4824235325116476\n",
      "16 0.9895938800764991 0.4270288510207525 0.5625650290557466\n",
      "17 0.9920688491393858 0.5093639277880884 0.4827049213512974\n",
      "18 0.9911688603892451 0.43428378606377593 0.5568850743254692\n",
      "19 0.993081336483294 0.5102075248861144 0.48287381159717957\n",
      "20 0.9926313421082237 0.44002024633035264 0.552611095777871\n",
      "21 0.9934750815614805 0.5088577695292729 0.4846173120322076\n",
      "22 0.9933063336708291 0.44896237556942803 0.5443439581014011\n",
      "23 0.9937000787490157 0.5112198414037455 0.4824802373452701\n",
      "24 0.9935313308583643 0.45318036105955795 0.5403509697988064\n",
      "25 0.9938125773427832 0.5070018559136157 0.4868107214291675\n",
      "26 0.9936438294521318 0.45334908047916317 0.5402947489729686\n",
      "27 0.993868826639667 0.5112198414037455 0.4826489852359215\n",
      "28 0.9938125773427832 0.4614476126202126 0.5323649647225706\n",
      "29 0.993868826639667 0.5095326472076936 0.4843361794319734\n",
      "30 0.9937563280458994 0.45469883583600473 0.5390574922098947\n",
      "31 0.993868826639667 0.5049772228783533 0.4888916037613137\n",
      "32 0.9938125773427832 0.4597604184241606 0.5340521589186226\n",
      "33 0.9938125773427832 0.5061582588155896 0.48765431852719354\n",
      "34 0.9938125773427832 0.4555424329340307 0.5382701444087525\n",
      "35 0.993868826639667 0.5032900286823013 0.4905787979573657\n"
     ]
    }
   ],
   "source": [
    "## Lets do Pre-prunning\n",
    "\n",
    "training_accuracy = []\n",
    "test_accuracy = []\n",
    "\n",
    "ks = range(1, 50)\n",
    "\n",
    "for k in ks:\n",
    "    clf = RandomForestClassifier(n_estimators=k, random_state=0)\n",
    "    clf.fit(X_train2, Y_train)\n",
    "    print(k, clf.score(X_train2, Y_train), clf.score(X_test2, Y_test), clf.score(X_train2, Y_train) - clf.score(X_test2, Y_test))\n",
    "    training_accuracy.append(clf.score(X_train2, Y_train))\n",
    "    test_accuracy.append(clf.score(X_test2, Y_test))\n",
    "   \n",
    "    \n",
    "plt.plot(ks, training_accuracy, label=\"training accuracy\")\n",
    "plt.plot(ks, test_accuracy, label=\"test accuracy\")\n",
    "plt.ylabel(\"Accuracy\")\n",
    "plt.xlabel(\"n_estimators\")\n",
    "plt.legend();"
   ]
  },
  {
   "cell_type": "markdown",
   "id": "bcdf5733",
   "metadata": {},
   "source": [
    "### 3. Explore the data\n",
    "1. Create a copy of the data for explorations (sampling it down to a manageable size if necessary)\n",
    "2. Create a Jupyter notebook to keep a record of your data exploration\n",
    "3. Study each feature and its characteristics:\n",
    "    * Name\n",
    "    * Type (categorical, int/float, bounded/unbounded, text, structured, etc)\n",
    "    * Percentage of missing values\n",
    "    * Check for outliers, rounding errors etc\n",
    "4. For supervised learning tasks, identify the target(s)\n",
    "5. Visualise the data\n",
    "6. Study the correlations between features\n",
    "7. Identify the promising transformations you may want to apply (e.g. convert skewed targets to normal via a log transformation)\n",
    "8. Document what you have learned"
   ]
  },
  {
   "cell_type": "markdown",
   "id": "e9d99160",
   "metadata": {},
   "source": [
    "### 4. Prepare the data\n",
    "Notes:\n",
    "* Work on copies of the data (keep the original dataset intact).\n",
    "* Write functions for all data transformations you apply, for three reasons:\n",
    "    * So you can easily prepare the data the next time you run your code\n",
    "    * So you can apply these transformations in future projects\n",
    "    * To clean and prepare the test set\n",
    "    \n",
    "    \n",
    "1. Data cleaning:\n",
    "    * Fix or remove outliers (or keep them)\n",
    "    * Fill in missing values (e.g. with zero, mean, median, regression ...) or drop their rows (or columns)\n",
    "2. Feature selection (optional):\n",
    "    * Drop the features that provide no useful information for the task (e.g. a customer ID is usually useless for modelling).\n",
    "3. Feature engineering, where appropriate:\n",
    "    * Discretize continuous features\n",
    "    * Use one-hot encoding if/when relevant\n",
    "    * Add promising transformations of features (e.g. $\\log(x)$, $\\sqrt{x}$, $x^2$, etc)\n",
    "    * Aggregate features into promising new features\n",
    "4. Feature scaling: standardise or normalise features"
   ]
  },
  {
   "cell_type": "markdown",
   "id": "1d7eca9d",
   "metadata": {},
   "source": [
    "### 5. Short-list promising models\n",
    "We expect you to do some additional research and train at **least one model per team member**.\n",
    "\n",
    "1. Train mainly quick and dirty models from different categories (e.g. linear, SVM, Random Forests etc) using default parameters\n",
    "2. Measure and compare their performance\n",
    "3. Analyse the most significant variables for each algorithm\n",
    "4. Analyse the types of errors the models make\n",
    "5. Have a quick round of feature selection and engineering if necessary\n",
    "6. Have one or two more quick iterations of the five previous steps\n",
    "7. Short-list the top three to five most promising models, preferring models that make different types of errors"
   ]
  },
  {
   "cell_type": "code",
   "execution_count": null,
   "id": "568a0807",
   "metadata": {},
   "outputs": [],
   "source": []
  },
  {
   "cell_type": "markdown",
   "id": "f1981609",
   "metadata": {},
   "source": [
    "### 6. Fine-tune the system\n",
    "1. Fine-tune the hyperparameters\n",
    "2. Once you are confident about your final model, measure its performance on the test set to estimate the generalisation error"
   ]
  },
  {
   "cell_type": "markdown",
   "id": "40a776d3",
   "metadata": {},
   "source": [
    "### 7. Present your solution\n",
    "1. Document what you have done\n",
    "2. Create a nice 15 minute video presentation with slides\n",
    "    * Make sure you highlight the big picture first\n",
    "3. Explain why your solution achieves the business objective\n",
    "4. Don't forget to present interesting points you noticed along the way:\n",
    "    * Describe what worked and what did not\n",
    "    * List your assumptions and you model's limitations\n",
    "5. Ensure your key findings are communicated through nice visualisations or easy-to-remember statements (e.g. \"the median income is the number-one predictor of housing prices\")\n",
    "6. Upload the presentation to some online platform, e.g. YouTube or Vimeo, and supply a link to the video in the notebook."
   ]
  },
  {
   "cell_type": "code",
   "execution_count": null,
   "id": "5c27b1a2",
   "metadata": {},
   "outputs": [],
   "source": []
  },
  {
   "cell_type": "code",
   "execution_count": null,
   "id": "f541003c",
   "metadata": {},
   "outputs": [],
   "source": []
  }
 ],
 "metadata": {
  "kernelspec": {
   "display_name": "Python 3 (ipykernel)",
   "language": "python",
   "name": "python3"
  },
  "language_info": {
   "codemirror_mode": {
    "name": "ipython",
    "version": 3
   },
   "file_extension": ".py",
   "mimetype": "text/x-python",
   "name": "python",
   "nbconvert_exporter": "python",
   "pygments_lexer": "ipython3",
   "version": "3.9.12"
  }
 },
 "nbformat": 4,
 "nbformat_minor": 5
}
